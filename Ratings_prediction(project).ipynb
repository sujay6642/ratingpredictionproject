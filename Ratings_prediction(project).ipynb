{
 "cells": [
  {
   "cell_type": "markdown",
   "metadata": {},
   "source": [
    "Installing required packages/libraries"
   ]
  },
  {
   "cell_type": "code",
   "execution_count": 281,
   "metadata": {},
   "outputs": [],
   "source": [
    "#!pip install nltk"
   ]
  },
  {
   "cell_type": "code",
   "execution_count": 282,
   "metadata": {},
   "outputs": [
    {
     "name": "stderr",
     "output_type": "stream",
     "text": [
      "[nltk_data] Downloading package punkt to\n",
      "[nltk_data]     C:\\Users\\HP\\AppData\\Roaming\\nltk_data...\n",
      "[nltk_data]   Package punkt is already up-to-date!\n"
     ]
    }
   ],
   "source": [
    "import pandas as pd \n",
    "import numpy as np\n",
    "import matplotlib.pyplot as plt\n",
    "import seaborn as sns\n",
    "import scipy.stats\n",
    "import warnings\n",
    "warnings.filterwarnings('ignore')\n",
    "pd.pandas.set_option('display.max_columns',None)\n",
    "# Import relevant packages\n",
    "\n",
    "import nltk\n",
    "\n",
    "import re \n",
    "\n",
    "import string\n",
    "from nltk.tokenize import word_tokenize\n",
    "from nltk.tokenize import sent_tokenize\n",
    "\n",
    "from nltk.corpus import stopwords  # Remove useless words\n",
    "from nltk.stem.lancaster import LancasterStemmer  # Convert words to base form; aggressive\n",
    "nltk.download('punkt')\n",
    "# Import packages that help us to create document-term matrix\n",
    "from sklearn.feature_extraction.text import CountVectorizer, TfidfVectorizer\n",
    "%matplotlib inline"
   ]
  },
  {
   "cell_type": "code",
   "execution_count": 283,
   "metadata": {},
   "outputs": [
    {
     "data": {
      "text/html": [
       "<div>\n",
       "<style scoped>\n",
       "    .dataframe tbody tr th:only-of-type {\n",
       "        vertical-align: middle;\n",
       "    }\n",
       "\n",
       "    .dataframe tbody tr th {\n",
       "        vertical-align: top;\n",
       "    }\n",
       "\n",
       "    .dataframe thead th {\n",
       "        text-align: right;\n",
       "    }\n",
       "</style>\n",
       "<table border=\"1\" class=\"dataframe\">\n",
       "  <thead>\n",
       "    <tr style=\"text-align: right;\">\n",
       "      <th></th>\n",
       "      <th>Unnamed: 0</th>\n",
       "      <th>Rating</th>\n",
       "      <th>Review_head</th>\n",
       "      <th>Full_review</th>\n",
       "    </tr>\n",
       "  </thead>\n",
       "  <tbody>\n",
       "    <tr>\n",
       "      <th>0</th>\n",
       "      <td>0</td>\n",
       "      <td>5</td>\n",
       "      <td>Super!</td>\n",
       "      <td>super bbb prodact amazing bass effects speake...</td>\n",
       "    </tr>\n",
       "    <tr>\n",
       "      <th>1</th>\n",
       "      <td>1</td>\n",
       "      <td>5</td>\n",
       "      <td>Great product</td>\n",
       "      <td>supper sound lacky</td>\n",
       "    </tr>\n",
       "    <tr>\n",
       "      <th>2</th>\n",
       "      <td>2</td>\n",
       "      <td>5</td>\n",
       "      <td>Must buy!</td>\n",
       "      <td>nice sound system . superb bass audio . aweso...</td>\n",
       "    </tr>\n",
       "    <tr>\n",
       "      <th>3</th>\n",
       "      <td>3</td>\n",
       "      <td>4</td>\n",
       "      <td>Worth the money</td>\n",
       "      <td>nice</td>\n",
       "    </tr>\n",
       "    <tr>\n",
       "      <th>4</th>\n",
       "      <td>4</td>\n",
       "      <td>4</td>\n",
       "      <td>Nice product</td>\n",
       "      <td>nice product , good sound</td>\n",
       "    </tr>\n",
       "    <tr>\n",
       "      <th>...</th>\n",
       "      <td>...</td>\n",
       "      <td>...</td>\n",
       "      <td>...</td>\n",
       "      <td>...</td>\n",
       "    </tr>\n",
       "    <tr>\n",
       "      <th>109551</th>\n",
       "      <td>8887</td>\n",
       "      <td>5</td>\n",
       "      <td>Wonderful</td>\n",
       "      <td>Beautiful coronavirus</td>\n",
       "    </tr>\n",
       "    <tr>\n",
       "      <th>109552</th>\n",
       "      <td>8888</td>\n",
       "      <td>5</td>\n",
       "      <td>Must buy!</td>\n",
       "      <td>Laptop hot</td>\n",
       "    </tr>\n",
       "    <tr>\n",
       "      <th>109553</th>\n",
       "      <td>8889</td>\n",
       "      <td>1</td>\n",
       "      <td>Utterly Disappointed</td>\n",
       "      <td>Within 12 days of purchasing it is out of orde...</td>\n",
       "    </tr>\n",
       "    <tr>\n",
       "      <th>109554</th>\n",
       "      <td>8890</td>\n",
       "      <td>3</td>\n",
       "      <td>Just okay</td>\n",
       "      <td>It is too small and handy. Able to use as Lapt...</td>\n",
       "    </tr>\n",
       "    <tr>\n",
       "      <th>109555</th>\n",
       "      <td>8891</td>\n",
       "      <td>1</td>\n",
       "      <td>Not recommended at all</td>\n",
       "      <td>Slow but proper working,Faltu product</td>\n",
       "    </tr>\n",
       "  </tbody>\n",
       "</table>\n",
       "<p>109556 rows × 4 columns</p>\n",
       "</div>"
      ],
      "text/plain": [
       "        Unnamed: 0  Rating             Review_head  \\\n",
       "0                0       5                  Super!   \n",
       "1                1       5           Great product   \n",
       "2                2       5               Must buy!   \n",
       "3                3       4         Worth the money   \n",
       "4                4       4            Nice product   \n",
       "...            ...     ...                     ...   \n",
       "109551        8887       5               Wonderful   \n",
       "109552        8888       5               Must buy!   \n",
       "109553        8889       1    Utterly Disappointed   \n",
       "109554        8890       3               Just okay   \n",
       "109555        8891       1  Not recommended at all   \n",
       "\n",
       "                                              Full_review  \n",
       "0        super bbb prodact amazing bass effects speake...  \n",
       "1                                      supper sound lacky  \n",
       "2        nice sound system . superb bass audio . aweso...  \n",
       "3                                                    nice  \n",
       "4                               nice product , good sound  \n",
       "...                                                   ...  \n",
       "109551                              Beautiful coronavirus  \n",
       "109552                                         Laptop hot  \n",
       "109553  Within 12 days of purchasing it is out of orde...  \n",
       "109554  It is too small and handy. Able to use as Lapt...  \n",
       "109555              Slow but proper working,Faltu product  \n",
       "\n",
       "[109556 rows x 4 columns]"
      ]
     },
     "execution_count": 283,
     "metadata": {},
     "output_type": "execute_result"
    }
   ],
   "source": [
    "df1=pd.read_csv('ratings_prediction(dataset).csv')\n",
    "df1"
   ]
  },
  {
   "cell_type": "markdown",
   "metadata": {},
   "source": [
    "The dataset has 45,598 rows and 4 columns(features):\n",
    "    1)Unnamed:0  -It contains the previous indices of the dataframes that were concatenated into this one.\n",
    "    2)Rating(dependent)  -It contains the ratings associated with the reviews.\n",
    "    3)Review_head  -It contains the headings associated with the reviews respectively.\n",
    "    4)Full_review  -It contains the full review text.\n",
    "    \n",
    "    As apparent the Unnamed:0 feature has no significance in working towards our goal of model building which can predict the rating by seeing the review.\n",
    "        "
   ]
  },
  {
   "cell_type": "code",
   "execution_count": 284,
   "metadata": {},
   "outputs": [
    {
     "data": {
      "text/html": [
       "<div>\n",
       "<style scoped>\n",
       "    .dataframe tbody tr th:only-of-type {\n",
       "        vertical-align: middle;\n",
       "    }\n",
       "\n",
       "    .dataframe tbody tr th {\n",
       "        vertical-align: top;\n",
       "    }\n",
       "\n",
       "    .dataframe thead th {\n",
       "        text-align: right;\n",
       "    }\n",
       "</style>\n",
       "<table border=\"1\" class=\"dataframe\">\n",
       "  <thead>\n",
       "    <tr style=\"text-align: right;\">\n",
       "      <th></th>\n",
       "      <th>Unnamed: 0</th>\n",
       "      <th>Rating</th>\n",
       "      <th>Review_head</th>\n",
       "      <th>Full_review</th>\n",
       "    </tr>\n",
       "  </thead>\n",
       "  <tbody>\n",
       "    <tr>\n",
       "      <th>0</th>\n",
       "      <td>0</td>\n",
       "      <td>2</td>\n",
       "      <td>Could be way better</td>\n",
       "      <td>Price is high.</td>\n",
       "    </tr>\n",
       "    <tr>\n",
       "      <th>1</th>\n",
       "      <td>1</td>\n",
       "      <td>5</td>\n",
       "      <td>Brilliant</td>\n",
       "      <td>Superb quality nice panels good working safe l...</td>\n",
       "    </tr>\n",
       "    <tr>\n",
       "      <th>2</th>\n",
       "      <td>2</td>\n",
       "      <td>5</td>\n",
       "      <td>Simply awesome</td>\n",
       "      <td>Fine product</td>\n",
       "    </tr>\n",
       "    <tr>\n",
       "      <th>3</th>\n",
       "      <td>3</td>\n",
       "      <td>4</td>\n",
       "      <td>Worth the money</td>\n",
       "      <td>Almost good product</td>\n",
       "    </tr>\n",
       "    <tr>\n",
       "      <th>4</th>\n",
       "      <td>4</td>\n",
       "      <td>5</td>\n",
       "      <td>Wonderful</td>\n",
       "      <td>Nice product...</td>\n",
       "    </tr>\n",
       "    <tr>\n",
       "      <th>...</th>\n",
       "      <td>...</td>\n",
       "      <td>...</td>\n",
       "      <td>...</td>\n",
       "      <td>...</td>\n",
       "    </tr>\n",
       "    <tr>\n",
       "      <th>38175</th>\n",
       "      <td>115687</td>\n",
       "      <td>4</td>\n",
       "      <td>Really Nice</td>\n",
       "      <td>small..but good for beginners</td>\n",
       "    </tr>\n",
       "    <tr>\n",
       "      <th>38176</th>\n",
       "      <td>115688</td>\n",
       "      <td>5</td>\n",
       "      <td>Highly recommended</td>\n",
       "      <td>Super for proficition photo grapher</td>\n",
       "    </tr>\n",
       "    <tr>\n",
       "      <th>38177</th>\n",
       "      <td>115689</td>\n",
       "      <td>3</td>\n",
       "      <td>Just okay</td>\n",
       "      <td>in the description it was mentioned as as alum...</td>\n",
       "    </tr>\n",
       "    <tr>\n",
       "      <th>38178</th>\n",
       "      <td>115691</td>\n",
       "      <td>5</td>\n",
       "      <td>Terrific purchase</td>\n",
       "      <td>this is the best stepilizer for low angle shot...</td>\n",
       "    </tr>\n",
       "    <tr>\n",
       "      <th>38179</th>\n",
       "      <td>115692</td>\n",
       "      <td>5</td>\n",
       "      <td>Great product</td>\n",
       "      <td>Very Good Product...,Fast Shipping...,I hope D...</td>\n",
       "    </tr>\n",
       "  </tbody>\n",
       "</table>\n",
       "<p>38180 rows × 4 columns</p>\n",
       "</div>"
      ],
      "text/plain": [
       "       Unnamed: 0 Rating          Review_head  \\\n",
       "0               0      2  Could be way better   \n",
       "1               1      5            Brilliant   \n",
       "2               2      5       Simply awesome   \n",
       "3               3      4      Worth the money   \n",
       "4               4      5            Wonderful   \n",
       "...           ...    ...                  ...   \n",
       "38175      115687      4          Really Nice   \n",
       "38176      115688      5   Highly recommended   \n",
       "38177      115689      3            Just okay   \n",
       "38178      115691      5    Terrific purchase   \n",
       "38179      115692      5        Great product   \n",
       "\n",
       "                                             Full_review  \n",
       "0                                         Price is high.  \n",
       "1      Superb quality nice panels good working safe l...  \n",
       "2                                           Fine product  \n",
       "3                                    Almost good product  \n",
       "4                                        Nice product...  \n",
       "...                                                  ...  \n",
       "38175                      small..but good for beginners  \n",
       "38176                Super for proficition photo grapher  \n",
       "38177  in the description it was mentioned as as alum...  \n",
       "38178  this is the best stepilizer for low angle shot...  \n",
       "38179  Very Good Product...,Fast Shipping...,I hope D...  \n",
       "\n",
       "[38180 rows x 4 columns]"
      ]
     },
     "execution_count": 284,
     "metadata": {},
     "output_type": "execute_result"
    }
   ],
   "source": [
    "df2=pd.read_csv('rating_prediction(extended).csv')\n",
    "df2"
   ]
  },
  {
   "cell_type": "markdown",
   "metadata": {},
   "source": [
    "The dataset(df2) was extracted/scraped later due to the lack of sufficient data.Hence, it was concatenated with the former dataframe(df1) later in the worksheet."
   ]
  },
  {
   "cell_type": "code",
   "execution_count": 285,
   "metadata": {},
   "outputs": [],
   "source": [
    "df2.drop('Unnamed: 0',axis=1,inplace=True)"
   ]
  },
  {
   "cell_type": "code",
   "execution_count": 286,
   "metadata": {},
   "outputs": [
    {
     "data": {
      "text/plain": [
       "5    19863\n",
       "4     6689\n",
       "1     6098\n",
       "3     3496\n",
       "2     2026\n",
       "-        8\n",
       "Name: Rating, dtype: int64"
      ]
     },
     "execution_count": 286,
     "metadata": {},
     "output_type": "execute_result"
    }
   ],
   "source": [
    "df2['Rating'].value_counts()"
   ]
  },
  {
   "cell_type": "code",
   "execution_count": 287,
   "metadata": {},
   "outputs": [
    {
     "data": {
      "text/plain": [
       "(array([ 5316,  5317, 21807, 21808, 21809, 21810, 21811, 21812],\n",
       "       dtype=int64),)"
      ]
     },
     "execution_count": 287,
     "metadata": {},
     "output_type": "execute_result"
    }
   ],
   "source": [
    "np.where(df2['Rating']=='-')"
   ]
  },
  {
   "cell_type": "code",
   "execution_count": 288,
   "metadata": {},
   "outputs": [
    {
     "data": {
      "text/plain": [
       "5    19863\n",
       "4     6689\n",
       "1     6098\n",
       "3     3496\n",
       "2     2026\n",
       "Name: Rating, dtype: int64"
      ]
     },
     "execution_count": 288,
     "metadata": {},
     "output_type": "execute_result"
    }
   ],
   "source": [
    "drop_list=[5316,5317,21807,21808,21809,21810,21811,21812]\n",
    "df2.drop(drop_list,inplace=True)\n",
    "df2['Rating'].value_counts()"
   ]
  },
  {
   "cell_type": "code",
   "execution_count": 289,
   "metadata": {},
   "outputs": [],
   "source": [
    "#dropping the irrelevant feature\n",
    "df1.drop('Unnamed: 0',axis=1,inplace=True)"
   ]
  },
  {
   "cell_type": "code",
   "execution_count": 290,
   "metadata": {},
   "outputs": [
    {
     "data": {
      "text/plain": [
       "5    61525\n",
       "1    19278\n",
       "4    17648\n",
       "3     7499\n",
       "2     3606\n",
       "Name: Rating, dtype: int64"
      ]
     },
     "execution_count": 290,
     "metadata": {},
     "output_type": "execute_result"
    }
   ],
   "source": [
    "df1['Rating'].value_counts()"
   ]
  },
  {
   "cell_type": "markdown",
   "metadata": {},
   "source": [
    "The target feature is largely imbalanced with varying amounts of samples for different categories.\n",
    "Splitting the dataset into different dataframes as per the category they fall into,with a goal of balancing the dataset."
   ]
  },
  {
   "cell_type": "code",
   "execution_count": 291,
   "metadata": {},
   "outputs": [],
   "source": [
    "df1.drop_duplicates(keep='first',inplace=True)"
   ]
  },
  {
   "cell_type": "code",
   "execution_count": 293,
   "metadata": {},
   "outputs": [
    {
     "data": {
      "text/plain": [
       "5    25495\n",
       "1     8934\n",
       "4     8110\n",
       "3     3609\n",
       "2     1989\n",
       "Name: Rating, dtype: int64"
      ]
     },
     "execution_count": 293,
     "metadata": {},
     "output_type": "execute_result"
    }
   ],
   "source": [
    "df1['Rating'].value_counts()"
   ]
  },
  {
   "cell_type": "code",
   "execution_count": 294,
   "metadata": {},
   "outputs": [
    {
     "data": {
      "text/plain": [
       "Rating         0\n",
       "Review_head    0\n",
       "Full_review    0\n",
       "dtype: int64"
      ]
     },
     "execution_count": 294,
     "metadata": {},
     "output_type": "execute_result"
    }
   ],
   "source": [
    "df1.isnull().sum()"
   ]
  },
  {
   "cell_type": "markdown",
   "metadata": {},
   "source": [
    "Since there were a lot of words with similar implications were used eg: run,running etc ,Lanchester Stemmmer was used to stem the words to their core."
   ]
  },
  {
   "cell_type": "code",
   "execution_count": 295,
   "metadata": {},
   "outputs": [],
   "source": [
    "#Lancaster stemmer\n",
    "lnc=LancasterStemmer()"
   ]
  },
  {
   "cell_type": "code",
   "execution_count": 296,
   "metadata": {},
   "outputs": [
    {
     "data": {
      "text/plain": [
       "Rating         0\n",
       "Review_head    0\n",
       "Full_review    0\n",
       "dtype: int64"
      ]
     },
     "execution_count": 296,
     "metadata": {},
     "output_type": "execute_result"
    }
   ],
   "source": [
    "df2.isnull().sum()"
   ]
  },
  {
   "cell_type": "code",
   "execution_count": 297,
   "metadata": {},
   "outputs": [],
   "source": [
    "#defining a function to remove stopwords from the text\n",
    "def clean(text):\n",
    "    try:\n",
    "        cleaned=''\n",
    "        stop_words=stopwords.words('english')\n",
    "        lower_text=text.lower() #converting the text data to lowercase because the stopwords are in lowercase\n",
    "        for sent_token in sent_tokenize(lower_text): #Splitting the text into tokens of sentences\n",
    "            for word in nltk.word_tokenize(sent_token):#splitting the tokens of sentences into tokens of words\n",
    "                if word not in stop_words:\n",
    "                    stemmed=lnc.stem(word)\n",
    "                    cleaned=cleaned+' '+stemmed\n",
    "            #cleaned=cleaned+' '   So that the words dont merge when the '.' is removed as a punctuation\n",
    "    except Exception as e:\n",
    "        print(\"exception in\",text,e )\n",
    "    return cleaned"
   ]
  },
  {
   "cell_type": "code",
   "execution_count": 298,
   "metadata": {},
   "outputs": [],
   "source": [
    "df2['Rating']=df2['Rating'].astype('int64')"
   ]
  },
  {
   "cell_type": "code",
   "execution_count": 299,
   "metadata": {},
   "outputs": [],
   "source": [
    "df=pd.concat([df1,df2],ignore_index=True)"
   ]
  },
  {
   "cell_type": "code",
   "execution_count": 302,
   "metadata": {},
   "outputs": [],
   "source": [
    "#Removing stopwords from the text data\n",
    "\n",
    "for i in range(len(df)):\n",
    "    df['Full_review'][i]=clean(df['Full_review'][i])\n",
    "    "
   ]
  },
  {
   "cell_type": "code",
   "execution_count": 303,
   "metadata": {},
   "outputs": [
    {
     "data": {
      "text/plain": [
       "5    45358\n",
       "1    15032\n",
       "4    14799\n",
       "3     7105\n",
       "2     4015\n",
       "Name: Rating, dtype: int64"
      ]
     },
     "execution_count": 303,
     "metadata": {},
     "output_type": "execute_result"
    }
   ],
   "source": [
    "df['Rating'].value_counts()"
   ]
  },
  {
   "cell_type": "code",
   "execution_count": 304,
   "metadata": {},
   "outputs": [
    {
     "data": {
      "text/html": [
       "<div>\n",
       "<style scoped>\n",
       "    .dataframe tbody tr th:only-of-type {\n",
       "        vertical-align: middle;\n",
       "    }\n",
       "\n",
       "    .dataframe tbody tr th {\n",
       "        vertical-align: top;\n",
       "    }\n",
       "\n",
       "    .dataframe thead th {\n",
       "        text-align: right;\n",
       "    }\n",
       "</style>\n",
       "<table border=\"1\" class=\"dataframe\">\n",
       "  <thead>\n",
       "    <tr style=\"text-align: right;\">\n",
       "      <th></th>\n",
       "      <th>Rating</th>\n",
       "      <th>Review_head</th>\n",
       "      <th>Full_review</th>\n",
       "    </tr>\n",
       "  </thead>\n",
       "  <tbody>\n",
       "    <tr>\n",
       "      <th>17</th>\n",
       "      <td>1</td>\n",
       "      <td>Did not meet expectations</td>\n",
       "      <td>poor bas</td>\n",
       "    </tr>\n",
       "    <tr>\n",
       "      <th>32</th>\n",
       "      <td>1</td>\n",
       "      <td>Very poor</td>\n",
       "      <td>bluetoo bad</td>\n",
       "    </tr>\n",
       "    <tr>\n",
       "      <th>41</th>\n",
       "      <td>1</td>\n",
       "      <td>Worthless</td>\n",
       "      <td>poor qual</td>\n",
       "    </tr>\n",
       "    <tr>\n",
       "      <th>45</th>\n",
       "      <td>1</td>\n",
       "      <td>Useless product</td>\n",
       "      <td>purchas produc</td>\n",
       "    </tr>\n",
       "    <tr>\n",
       "      <th>48</th>\n",
       "      <td>1</td>\n",
       "      <td>Worthless</td>\n",
       "      <td>nyc sound bass smal ok pric</td>\n",
       "    </tr>\n",
       "    <tr>\n",
       "      <th>...</th>\n",
       "      <td>...</td>\n",
       "      <td>...</td>\n",
       "      <td>...</td>\n",
       "    </tr>\n",
       "    <tr>\n",
       "      <th>86262</th>\n",
       "      <td>1</td>\n",
       "      <td>Not recommended at all</td>\n",
       "      <td>univers stabl plast alumin</td>\n",
       "    </tr>\n",
       "    <tr>\n",
       "      <th>86264</th>\n",
       "      <td>1</td>\n",
       "      <td>Worthless</td>\n",
       "      <td>n't wast money ! ! !</td>\n",
       "    </tr>\n",
       "    <tr>\n",
       "      <th>86270</th>\n",
       "      <td>1</td>\n",
       "      <td>Don't waste your money</td>\n",
       "      <td>low qual</td>\n",
       "    </tr>\n",
       "    <tr>\n",
       "      <th>86284</th>\n",
       "      <td>1</td>\n",
       "      <td>Did not meet expectations</td>\n",
       "      <td>plast produc</td>\n",
       "    </tr>\n",
       "    <tr>\n",
       "      <th>86297</th>\n",
       "      <td>1</td>\n",
       "      <td>Worthless</td>\n",
       "      <td>brok on</td>\n",
       "    </tr>\n",
       "  </tbody>\n",
       "</table>\n",
       "<p>15032 rows × 3 columns</p>\n",
       "</div>"
      ],
      "text/plain": [
       "       Rating                Review_head                   Full_review\n",
       "17          1  Did not meet expectations                      poor bas\n",
       "32          1                  Very poor                   bluetoo bad\n",
       "41          1                  Worthless                     poor qual\n",
       "45          1            Useless product                purchas produc\n",
       "48          1                  Worthless   nyc sound bass smal ok pric\n",
       "...       ...                        ...                           ...\n",
       "86262       1     Not recommended at all    univers stabl plast alumin\n",
       "86264       1                  Worthless          n't wast money ! ! !\n",
       "86270       1     Don't waste your money                      low qual\n",
       "86284       1  Did not meet expectations                  plast produc\n",
       "86297       1                  Worthless                       brok on\n",
       "\n",
       "[15032 rows x 3 columns]"
      ]
     },
     "execution_count": 304,
     "metadata": {},
     "output_type": "execute_result"
    }
   ],
   "source": [
    "cat_1=df[df['Rating']==1]\n",
    "cat_1"
   ]
  },
  {
   "cell_type": "code",
   "execution_count": 305,
   "metadata": {},
   "outputs": [],
   "source": [
    "cat_2=df[df['Rating']==2]\n",
    "cat_3=df[df['Rating']==3]\n",
    "cat_4=df[df['Rating']==4]\n",
    "cat_5=df[df['Rating']==5]"
   ]
  },
  {
   "cell_type": "markdown",
   "metadata": {},
   "source": [
    "Proceed with data analysis of the text data with respect to the rating.Web scrap more for your test dataset."
   ]
  },
  {
   "cell_type": "code",
   "execution_count": 306,
   "metadata": {},
   "outputs": [
    {
     "data": {
      "text/html": [
       "<div>\n",
       "<style scoped>\n",
       "    .dataframe tbody tr th:only-of-type {\n",
       "        vertical-align: middle;\n",
       "    }\n",
       "\n",
       "    .dataframe tbody tr th {\n",
       "        vertical-align: top;\n",
       "    }\n",
       "\n",
       "    .dataframe thead th {\n",
       "        text-align: right;\n",
       "    }\n",
       "</style>\n",
       "<table border=\"1\" class=\"dataframe\">\n",
       "  <thead>\n",
       "    <tr style=\"text-align: right;\">\n",
       "      <th></th>\n",
       "      <th>Rating</th>\n",
       "      <th>Review_head</th>\n",
       "      <th>Full_review</th>\n",
       "    </tr>\n",
       "  </thead>\n",
       "  <tbody>\n",
       "    <tr>\n",
       "      <th>38</th>\n",
       "      <td>2</td>\n",
       "      <td>Could be way better</td>\n",
       "      <td>sound qual good</td>\n",
       "    </tr>\n",
       "    <tr>\n",
       "      <th>42</th>\n",
       "      <td>2</td>\n",
       "      <td>Nice</td>\n",
       "      <td>bass real poor overal good produc</td>\n",
       "    </tr>\n",
       "    <tr>\n",
       "      <th>58</th>\n",
       "      <td>2</td>\n",
       "      <td>Could be way better</td>\n",
       "      <td>guaranty 3 month , 'm disappoint ic bad two t...</td>\n",
       "    </tr>\n",
       "    <tr>\n",
       "      <th>100</th>\n",
       "      <td>2</td>\n",
       "      <td>Not good</td>\n",
       "      <td>ok</td>\n",
       "    </tr>\n",
       "    <tr>\n",
       "      <th>115</th>\n",
       "      <td>2</td>\n",
       "      <td>Moderate</td>\n",
       "      <td>bhag produc</td>\n",
       "    </tr>\n",
       "    <tr>\n",
       "      <th>...</th>\n",
       "      <td>...</td>\n",
       "      <td>...</td>\n",
       "      <td>...</td>\n",
       "    </tr>\n",
       "    <tr>\n",
       "      <th>86255</th>\n",
       "      <td>2</td>\n",
       "      <td>Could be way better</td>\n",
       "      <td>writ</td>\n",
       "    </tr>\n",
       "    <tr>\n",
       "      <th>86258</th>\n",
       "      <td>2</td>\n",
       "      <td>Bad quality</td>\n",
       "      <td>expect much worst qual , poor mat qual ,</td>\n",
       "    </tr>\n",
       "    <tr>\n",
       "      <th>86278</th>\n",
       "      <td>2</td>\n",
       "      <td>Expected a better product</td>\n",
       "      <td>good handl shak much</td>\n",
       "    </tr>\n",
       "    <tr>\n",
       "      <th>86288</th>\n",
       "      <td>2</td>\n",
       "      <td>Could be way better</td>\n",
       "      <td>produc seem lightweight pro con . screw botto...</td>\n",
       "    </tr>\n",
       "    <tr>\n",
       "      <th>86291</th>\n",
       "      <td>2</td>\n",
       "      <td>Not good</td>\n",
       "      <td>ok</td>\n",
       "    </tr>\n",
       "  </tbody>\n",
       "</table>\n",
       "<p>4015 rows × 3 columns</p>\n",
       "</div>"
      ],
      "text/plain": [
       "       Rating                Review_head  \\\n",
       "38          2        Could be way better   \n",
       "42          2                       Nice   \n",
       "58          2        Could be way better   \n",
       "100         2                   Not good   \n",
       "115         2                   Moderate   \n",
       "...       ...                        ...   \n",
       "86255       2        Could be way better   \n",
       "86258       2                Bad quality   \n",
       "86278       2  Expected a better product   \n",
       "86288       2        Could be way better   \n",
       "86291       2                   Not good   \n",
       "\n",
       "                                             Full_review  \n",
       "38                                       sound qual good  \n",
       "42                     bass real poor overal good produc  \n",
       "58      guaranty 3 month , 'm disappoint ic bad two t...  \n",
       "100                                                   ok  \n",
       "115                                          bhag produc  \n",
       "...                                                  ...  \n",
       "86255                                               writ  \n",
       "86258           expect much worst qual , poor mat qual ,  \n",
       "86278                               good handl shak much  \n",
       "86288   produc seem lightweight pro con . screw botto...  \n",
       "86291                                                 ok  \n",
       "\n",
       "[4015 rows x 3 columns]"
      ]
     },
     "execution_count": 306,
     "metadata": {},
     "output_type": "execute_result"
    }
   ],
   "source": [
    "df[df['Rating']==2]"
   ]
  },
  {
   "cell_type": "code",
   "execution_count": 307,
   "metadata": {},
   "outputs": [
    {
     "data": {
      "text/plain": [
       "' port , perfect synt nee .'"
      ]
     },
     "execution_count": 307,
     "metadata": {},
     "output_type": "execute_result"
    }
   ],
   "source": [
    "df['Full_review'][45000]"
   ]
  },
  {
   "cell_type": "code",
   "execution_count": 308,
   "metadata": {},
   "outputs": [],
   "source": [
    "alpha=lambda x:re.sub(r\"\\[[0-9]*\\]\",' ',x)\n",
    "    "
   ]
  },
  {
   "cell_type": "code",
   "execution_count": 309,
   "metadata": {},
   "outputs": [],
   "source": [
    "alpha2=lambda x:re.sub(r'\\s+',' ',x)"
   ]
  },
  {
   "cell_type": "code",
   "execution_count": 310,
   "metadata": {},
   "outputs": [],
   "source": [
    "alpha3=lambda x:x.lower()"
   ]
  },
  {
   "cell_type": "code",
   "execution_count": 311,
   "metadata": {},
   "outputs": [],
   "source": [
    "alpha4=lambda x:re.sub(r'\\d',' ',x)"
   ]
  },
  {
   "cell_type": "code",
   "execution_count": 312,
   "metadata": {},
   "outputs": [],
   "source": [
    "alpha5=lambda x:re.sub(r'\\s+',\" \",x)"
   ]
  },
  {
   "cell_type": "code",
   "execution_count": 313,
   "metadata": {},
   "outputs": [],
   "source": [
    "alpha6=lambda x:x.translate(str.maketrans(\"\",\"\",string.punctuation))"
   ]
  },
  {
   "cell_type": "code",
   "execution_count": 314,
   "metadata": {},
   "outputs": [],
   "source": [
    "#converting the datatypes from string to object\n",
    "list1=[cat_1,cat_2,cat_3,cat_4,cat_5]\n",
    "for i in list1:\n",
    "    i['Full_review']=i['Full_review'].astype(str)\n",
    "    i['Review_head']=i['Review_head'].astype(str)"
   ]
  },
  {
   "cell_type": "code",
   "execution_count": 315,
   "metadata": {},
   "outputs": [],
   "source": [
    "for i in list1:\n",
    "    i['Full_review']=i['Full_review'].map(alpha).map(alpha2).map(alpha3).map(alpha4).map(alpha5).map(alpha6)"
   ]
  },
  {
   "cell_type": "code",
   "execution_count": 379,
   "metadata": {},
   "outputs": [],
   "source": [
    "for i in list1:\n",
    "    i['Review_head']=i['Review_head'].map(alpha).map(alpha2).map(alpha3).map(alpha4).map(alpha5).map(alpha6)"
   ]
  },
  {
   "cell_type": "code",
   "execution_count": 380,
   "metadata": {},
   "outputs": [
    {
     "data": {
      "text/plain": [
       "5    45358\n",
       "1    15032\n",
       "4    14799\n",
       "3     7105\n",
       "2     4015\n",
       "Name: Rating, dtype: int64"
      ]
     },
     "execution_count": 380,
     "metadata": {},
     "output_type": "execute_result"
    }
   ],
   "source": [
    "df['Rating'].value_counts()"
   ]
  },
  {
   "cell_type": "code",
   "execution_count": 381,
   "metadata": {},
   "outputs": [],
   "source": [
    "#\"didn't\" in stop_words"
   ]
  },
  {
   "cell_type": "code",
   "execution_count": 382,
   "metadata": {},
   "outputs": [
    {
     "data": {
      "text/plain": [
       "<15032x5833 sparse matrix of type '<class 'numpy.int64'>'\n",
       "\twith 113977 stored elements in Compressed Sparse Row format>"
      ]
     },
     "execution_count": 382,
     "metadata": {},
     "output_type": "execute_result"
    }
   ],
   "source": [
    "c_vect1=CountVectorizer()\n",
    "c_vect1.fit_transform(cat_1['Full_review'])\n"
   ]
  },
  {
   "cell_type": "code",
   "execution_count": 383,
   "metadata": {},
   "outputs": [],
   "source": [
    "#print(c_vect.get_feature_names())"
   ]
  },
  {
   "cell_type": "code",
   "execution_count": 384,
   "metadata": {},
   "outputs": [],
   "source": [
    "#The words used can be checked out along with their frequency\n",
    "check=c_vect1.vocabulary_"
   ]
  },
  {
   "cell_type": "code",
   "execution_count": 385,
   "metadata": {},
   "outputs": [],
   "source": [
    "def sort_dict_by_value(d, reverse = False):\n",
    "    \n",
    "      return dict(sorted(d.items(), key = lambda x: x[1], reverse = reverse))\n"
   ]
  },
  {
   "cell_type": "code",
   "execution_count": 386,
   "metadata": {},
   "outputs": [
    {
     "name": "stdout",
     "output_type": "stream",
     "text": [
      "\n",
      "Sort (descending) the said dictionary elements by value:\n",
      "{'𝙞𝙣': 5832, '𝘽𝙖𝙙': 5831, 'zyad': 5830, 'zoom': 5829, 'zook': 5828, 'zomby': 5827, 'zirakp': 5826, 'zip': 5825, 'zeroo': 5824, 'zero': 5823, 'zenphon': 5822, 'zenfon': 5821, 'zee': 5820, 'zebron': 5819, 'ytmus': 5818, 'yt': 5817, 'yrs': 5816, 'yr': 5815, 'yoyr': 5814, 'youtubers': 5813, 'youtubego': 5812, 'youtube': 5811, 'youtub': 5810, 'yousless': 5809, 'yourcustomer': 5808, 'your': 5807, 'youits': 5806, 'you': 5805, 'yono': 5804, 'yonguo': 5803, 'yog': 5802, 'yo': 5801, 'yl': 5800, 'yfit': 5799, 'yeti': 5798, 'yet': 5797, 'yesterday': 5796, 'yess': 5795, 'yellow': 5794, 'yeh': 5793, 'years': 5792, 'yearold': 5791, 'yearit': 5790, 'year': 5789, 'yeah': 5788, 'ye': 5787, 'yar': 5786, 'yantralay': 5785, 'ya': 5784, 'xtend': 5783, 'xt': 5782, 'xs': 5781, 'xr': 5780, 'xper': 5779, 'xiom': 5778, 'xioam': 5777, 'xiaom': 5776, 'xiamo': 5775, 'xforc': 5774, 'xerox': 5773, 'xcpt': 5772, 'xaom': 5771, 'wwwsonycoinproductkdl': 5770, 'wvga': 5769, 'wtf': 5768, 'wt': 5767, 'wst': 5766, 'ws': 5765, 'wroust': 5764, 'wrot': 5763, 'wrostz': 5762, 'wrostafter': 5761, 'wrost': 5760, 'wrongit': 5759, 'wrong': 5758, 'wrks': 5757, 'wrking': 5756, 'writ': 5755, 'wrist': 5754, 'wright': 5753, 'wreck': 5752, 'wrap': 5751, 'wqste': 5750, 'wprst': 5749, 'wow': 5748, 'wound': 5747, 'wouldnt': 5746, 'would': 5745, 'woth': 5744, 'wost': 5743, 'wosrt': 5742, 'wos': 5741, 'worthy': 5740, 'worthless': 5739, 'worthcamera': 5738, 'worthbl': 5737, 'worth': 5736, 'wort': 5735, 'worstwifi': 5734, 'worstttt': 5733, 'worstest': 5732, 'worstedconfused': 5731, 'worstdisplay': 5730, 'worstafter': 5729, 'worst': 5728, 'worsr': 5727, 'worsk': 5726, 'worsened': 5725, 'wors': 5724, 'worry': 5723, 'worrest': 5722, 'worost': 5721, 'worng': 5720, 'worn': 5719, 'world': 5718, 'workpress': 5717, 'workpower': 5716, 'workout': 5715, 'workk': 5714, 'workingtotally': 5713, 'workingthanks': 5712, 'workingplease': 5711, 'workingi': 5710, 'workingdon': 5709, 'workingand': 5708, 'workingalways': 5707, 'workingalso': 5706, 'workingaft': 5705, 'working': 5704, 'worked': 5703, 'workaround': 5702, 'work': 5701, 'worh': 5700, 'worest': 5699, 'word': 5698, 'worck': 5697, 'worast': 5696, 'wor': 5695, 'woow': 5694, 'woof': 5693, 'wood': 5692, 'woo': 5691, 'wont': 5690, 'wond': 5689, 'wom': 5688, 'wokr': 5687, 'wok': 5686, 'wobbl': 5685, 'woast': 5684, 'wo': 5683, 'wll': 5682, 'wkindly': 5681, 'withstand': 5680, 'withoutbil': 5679, 'without': 5678, 'withot': 5677, 'within': 5676, 'withaout': 5675, 'with': 5674, 'witch': 5673, 'wit': 5672, 'wist': 5671, 'wish': 5670, 'wis': 5669, 'wirh': 5668, 'wireless': 5667, 'wireits': 5666, 'wire': 5665, 'wir': 5664, 'wip': 5663, 'wing': 5662, 'windrow': 5661, 'windows': 5660, 'window': 5659, 'wind': 5658, 'win': 5657, 'wil': 5656, 'wik': 5655, 'wight': 5654, 'wify': 5653, 'wifivolte': 5652, 'wifi': 5651, 'wife': 5650, 'wif': 5649, 'wier': 5648, 'widget': 5647, 'widevin': 5646, 'wid': 5645, 'wich': 5644, 'wi': 5643, 'whtsapp': 5642, 'whos': 5641, 'whol': 5640, 'whoev': 5639, 'whithin': 5638, 'whit': 5637, 'whip': 5636, 'whin': 5635, 'whilst': 5634, 'while': 5633, 'wheth': 5632, 'wherev': 5631, 'whereabout': 5630, 'wherea': 5629, 'whenev': 5628, 'when': 5627, 'wheel': 5626, 'whatsoev': 5625, 'whatsapp': 5624, 'whatsap': 5623, 'whatev': 5622, 'whatap': 5621, 'what': 5620, 'wh': 5619, 'wet': 5618, 'westmoney': 5617, 'western': 5616, 'westeg': 5615, 'weste': 5614, 'west': 5613, 'wesr': 5612, 'wes': 5611, 'wery': 5610, 'weriy': 5609, 'wer': 5608, 'went': 5607, 'wen': 5606, 'wellvery': 5605, 'well': 5604, 'wel': 5603, 'weist': 5602, 'weird': 5601, 'weigt': 5600, 'weightless': 5599, 'weight': 5598, 'weigh': 5597, 'weep': 5596, 'weeksquality': 5595, 'weeks': 5594, 'week': 5593, 'websiteits': 5592, 'websit': 5591, 'websid': 5590, 'webcam': 5589, 'web': 5588, 'weath': 5587, 'weat': 5586, 'weastu': 5585, 'weast': 5584, 'wear': 5583, 'weak': 5582, 'wch': 5581, 'wcc': 5580, 'way': 5579, 'waw': 5578, 'wav': 5577, 'watt': 5576, 'watsup': 5575, 'watsap': 5574, 'wats': 5573, 'waterproof': 5572, 'watchwest': 5571, 'watchplease': 5570, 'watchi': 5569, 'watchfac': 5568, 'watchdont': 5567, 'watch': 5566, 'wat': 5565, 'wastw': 5564, 'wastless': 5563, 'wastet': 5562, 'wastest': 5561, 'wasteof': 5560, 'wastei': 5559, 'wasteg': 5558, 'wasted': 5557, 'waste': 5556, 'wastage': 5555, 'wast': 5554, 'wasnt': 5553, 'wash': 5552, 'was': 5551, 'wary': 5550, 'warty': 5549, 'warthless': 5548, 'warsteonly': 5547, 'warst': 5546, 'warrest': 5545, 'warrenty': 5544, 'warrantyjunk': 5543, 'warranty': 5542, 'warrantu': 5541, 'warranry': 5540, 'warn': 5539, 'warm': 5538, 'warkig': 5537, 'wark': 5536, 'warest': 5535, 'war': 5534, 'want': 5533, 'wan': 5532, 'wallpaperbto': 5531, 'wallpap': 5530, 'wallmount': 5529, 'walk': 5528, 'wal': 5527, 'wak': 5526, 'wait': 5525, 'waist': 5524, 'wais': 5523, 'wahh': 5522, 'wagon': 5521, 'wach': 5520, 'wa': 5519, 'vvvvvvv': 5518, 'vvvvvery': 5517, 'vvvvv': 5516, 'vu': 5515, 'vs': 5514, 'vry': 5513, 'vrey': 5512, 'vouch': 5511, 'vorst': 5510, 'voot': 5509, 'volumn': 5508, 'volumecan': 5507, 'volume': 5506, 'volum': 5505, 'volt': 5504, 'vol': 5503, 'voice': 5502, 'voic': 5501, 'vlog': 5500, 'vl': 5499, 'vizianagaramc': 5498, 'vivo': 5497, 'visits': 5496, 'visit': 5495, 'vis': 5494, 'viry': 5493, 'virus': 5492, 'vir': 5491, 'vil': 5490, 'view': 5489, 'videoconf': 5488, 'videocal': 5487, 'video': 5486, 'victim': 5485, 'vic': 5484, 'vibr': 5483, 'via': 5482, 'vgi': 5481, 'vga': 5480, 'veyst': 5479, 'vey': 5478, 'vety': 5477, 'vest': 5476, 'veryyyyyy': 5475, 'veryyyyy': 5474, 'veryy': 5473, 'veryvery': 5472, 'verypo': 5471, 'verydisappointed': 5470, 'very': 5469, 'ververybaaad': 5468, 'vert': 5467, 'version': 5466, 'versatil': 5465, 'vers': 5464, 'verry': 5463, 'verrrryy': 5462, 'verey': 5461, 'verdict': 5460, 'verbatim': 5459, 'ver': 5458, 'vent': 5457, 'vend': 5456, 'velueabel': 5455, 'vein': 5454, 'veey': 5453, 'veery': 5452, 'vedio': 5451, 'veast': 5450, 'veary': 5449, 've': 5448, 'vbad': 5447, 'vaste': 5446, 'vast': 5445, 'vas': 5444, 'vary': 5443, 'varth': 5442, 'varst': 5441, 'varryy': 5440, 'varry': 5439, 'varish': 5438, 'varest': 5437, 'var': 5436, 'vand': 5435, 'van': 5434, 'valv': 5433, 'valuo': 5432, 'valubl': 5431, 'valub': 5430, 'valu': 5429, 'valo': 5428, 'valley': 5427, 'valid': 5426, 'val': 5425, 'vag': 5424, 'vaest': 5423, 'vad': 5422, 'vacu': 5421, 'utmost': 5420, 'util': 5419, 'utg': 5418, 'utam': 5417, 'ut': 5416, 'usurp': 5415, 'usless': 5414, 'usingfiles': 5413, 'using': 5412, 'usetoo': 5411, 'usesless': 5410, 'usersnot': 5409, 'users': 5408, 'uselesslow': 5407, 'useless': 5406, 'uselesit': 5405, 'uselass': 5404, 'useful': 5403, 'useand': 5402, 'use': 5401, 'usbc': 5400, 'usb': 5399, 'usageproduct': 5398, 'usage': 5397, 'us': 5396, 'urg': 5395, 'urbanclap': 5394, 'ur': 5393, 'upto': 5392, 'upsleep': 5391, 'upsid': 5390, 'upset': 5389, 'upon': 5388, 'upload': 5387, 'upgradeinvention': 5386, 'upgrad': 5385, 'updation': 5384, 'update': 5383, 'upd': 5382, 'upadt': 5381, 'up': 5380, 'unworthy': 5379, 'unwork': 5378, 'unw': 5377, 'unused': 5376, 'unus': 5375, 'untrust': 5374, 'until': 5373, 'unst': 5372, 'unsold': 5371, 'unseen': 5370, 'unsav': 5369, 'unsatisfy': 5368, 'unsatisfact': 5367, 'unsaf': 5366, 'uns': 5365, 'unrespond': 5364, 'unresolv': 5363, 'unrely': 5362, 'unrecogn': 5361, 'unreachabletotally': 5360, 'unplugedso': 5359, 'unplay': 5358, 'unpair': 5357, 'unpack': 5356, 'unot': 5355, 'unnecessarilyapps': 5354, 'unnecess': 5353, 'unlucky': 5352, 'unlock': 5351, 'unloack': 5350, 'unlik': 5349, 'unless': 5348, 'unknown': 5347, 'univers': 5346, 'unitsin': 5345, 'unit': 5344, 'unintellig': 5343, 'uninstal': 5342, 'unhealthy': 5341, 'unhappy': 5340, 'unfriend': 5339, 'unfortun': 5338, 'unfin': 5337, 'unfair': 5336, 'unexpect': 5335, 'unev': 5334, 'uneth': 5333, 'unecess': 5332, 'undu': 5331, 'understood': 5330, 'understand': 5329, 'undernea': 5328, 'underbudget': 5327, 'und': 5326, 'uncomfort': 5325, 'uncheck': 5324, 'unboxingi': 5323, 'unbox': 5322, 'unbeliev': 5321, 'unbalanced': 5320, 'unba': 5319, 'unb': 5318, 'unattract': 5317, 'unaccpet': 5316, 'unacceiv': 5315, 'un': 5314, 'umpteen': 5313, 'ultrawide': 5312, 'ultr': 5311, 'ultim': 5310, 'ullu': 5309, 'ul': 5308, 'ui': 5307, 'uhdhd': 5306, 'ug': 5305, 'ubisl': 5304, 'ub': 5303, 'typemicrophon': 5302, 'typec': 5301, 'typ': 5300, 'tym': 5299, 'tye': 5298, 'tws': 5297, 'twothree': 5296, 'two': 5295, 'twit': 5294, 'twice': 5293, 'twic': 5292, 'twe': 5291, 'tw': 5290, 'tvs': 5289, 'tvluckily': 5288, 'tvi': 5287, 'tvdelivered': 5286, 'tv': 5285, 'turn': 5284, 'turbo': 5283, 'tun': 5282, 'tum': 5281, 'tuf': 5280, 'tuch': 5279, 'tub': 5278, 'tu': 5277, 'tshirt': 5276, 'ts': 5275, 'trypod': 5274, 'try': 5273, 'trustworthy': 5272, 'trust': 5271, 'truecom': 5270, 'truecaller': 5269, 'trubl': 5268, 'tru': 5267, 'troubleshoot': 5266, 'troubl': 5265, 'tripur': 5264, 'tripod': 5263, 'trip': 5262, 'trim': 5261, 'trig': 5260, 'tried': 5259, 'trick': 5258, 'tribl': 5257, 'tri': 5256, 'trebl': 5255, 'trebbo': 5254, 'treas': 5253, 'tre': 5252, 'tray': 5251, 'travel': 5250, 'trash': 5249, 'trap': 5248, 'transport': 5247, 'transp': 5246, 'transmit': 5245, 'transit': 5244, 'transfer': 5243, 'transf': 5242, 'tranform': 5241, 'tramend': 5240, 'train': 5239, 'traff': 5238, 'trad': 5237, 'trackpad': 5236, 'track': 5235, 'trach': 5234, 'tq': 5233, 'tpro': 5232, 'tp': 5231, 'toy': 5230, 'town': 5229, 'toward': 5228, 'tow': 5227, 'tough': 5226, 'touchscreen': 5225, 'touchpad': 5224, 'touch': 5223, 'totta': 5222, 'totl': 5221, 'totally': 5220, 'total': 5219, 'tota': 5218, 'tot': 5217, 'toss': 5216, 'toshib': 5215, 'torto': 5214, 'torn': 5213, 'torch': 5212, 'tor': 5211, 'top': 5210, 'tooooooooo': 5209, 'tooooooo': 5208, 'toooooo': 5207, 'tooooo': 5206, 'toooo': 5205, 'tooo': 5204, 'tool': 5203, 'took': 5202, 'too': 5201, 'ton': 5200, 'tollfree': 5199, 'tolf': 5198, 'told': 5197, 'tol': 5196, 'toid': 5195, 'toh': 5194, 'toggl': 5193, 'together': 5192, 'togeth': 5191, 'todust': 5190, 'today': 5189, 'toch': 5188, 'tobad': 5187, 'toar': 5186, 'to': 5185, 'tiz': 5184, 'tit': 5183, 'tis': 5182, 'tir': 5181, 'tip': 5180, 'tiny': 5179, 'tint': 5178, 'timeunfortunately': 5177, 'timethis': 5176, 'times': 5175, 'timenotification': 5174, 'timelin': 5173, 'timei': 5172, 'timefor': 5171, 'time': 5170, 'tim': 5169, 'tilted': 5168, 'tilt': 5167, 'til': 5166, 'tik': 5165, 'tight': 5164, 'tiet': 5163, 'tied': 5162, 'ticket': 5161, 'tice': 5160, 'tianm': 5159, 'ti': 5158, 'thy': 5157, 'thwhen': 5156, 'thuuu': 5155, 'thund': 5154, 'thump': 5153, 'thukal': 5152, 'thu': 5151, 'thts': 5150, 'tht': 5149, 'ths': 5148, 'thry': 5147, 'thru': 5146, 'thrown': 5145, 'throw': 5144, 'throughout': 5143, 'thro': 5142, 'thrice': 5141, 'threw': 5140, 'three': 5139, 'threads': 5138, 'thr': 5137, 'thousand': 5136, 'thought': 5135, 'though': 5134, 'those': 5133, 'thorough': 5132, 'thod': 5131, 'tho': 5130, 'thnx': 5129, 'thn': 5128, 'thjs': 5127, 'thisthey': 5126, 'thisth': 5125, 'thistab': 5124, 'thisssssssssssss': 5123, 'thisplease': 5122, 'thish': 5121, 'thiseven': 5120, 'thiscamera': 5119, 'this': 5118, 'thirdly': 5117, 'third': 5116, 'thinny': 5115, 'thinng': 5114, 'thinkplease': 5113, 'thinking': 5112, 'think': 5111, 'thinhg': 5110, 'things': 5109, 'thingh': 5108, 'thing': 5107, 'thin': 5106, 'thiirdclass': 5105, 'thih': 5104, 'thif': 5103, 'thief': 5102, 'thick': 5101, 'thi': 5100, 'thetecn': 5099, 'thet': 5098, 'therm': 5097, 'therei': 5096, 'theref': 5095, 'thereaft': 5094, 'there': 5093, 'ther': 5092, 'theproduc': 5091, 'theory': 5090, 'then': 5089, 'them': 5088, 'thelastbench': 5087, 'theg': 5086, 'theatreand': 5085, 'theater': 5084, 'the': 5083, 'thayt': 5082, 'thax': 5081, 'thatonly': 5080, 'that': 5079, 'thard': 5078, 'thankyou': 5077, 'thanku': 5076, 'thanksregards': 5075, 'thanks': 5074, 'thank': 5073, 'thag': 5072, 'tha': 5071, 'th': 5070, 'tge': 5069, 'tft': 5068, 'text': 5067, 'test': 5066, 'tery': 5065, 'terrible': 5064, 'terr': 5063, 'term': 5062, 'ter': 5061, 'tens': 5060, 'tend': 5059, 'ten': 5058, 'tempt': 5057, 'tempret': 5056, 'templ': 5055, 'temperature': 5054, 'temp': 5053, 'tel': 5052, 'tek': 5051, 'teddy': 5050, 'tecno': 5049, 'tecn': 5048, 'technolog': 5047, 'techno': 5046, 'technician': 5045, 'techn': 5044, 'techel': 5043, 'tech': 5042, 'teb': 5041, 'teaseri': 5040, 'tearedanother': 5039, 'teared': 5038, 'tear': 5037, 'team': 5036, 'teal': 5035, 'teach': 5034, 'te': 5033, 'td': 5032, 'tcl': 5031, 'tbh': 5030, 'tb': 5029, 'tatt': 5028, 'tat': 5027, 'tast': 5026, 'task': 5025, 'tarang': 5024, 'tapone': 5023, 'tap': 5022, 'tank': 5021, 'talktim': 5020, 'talk': 5019, 'tal': 5018, 'takatak': 5017, 'tak': 5016, 'tain': 5015, 'tag': 5014, 'tad': 5013, 'tacky': 5012, 'tack': 5011, 'tabthat': 5010, 'tablets': 5009, 'tabletplease': 5008, 'tabletdo': 5007, 'tabletbetter': 5006, 'tabletacm': 5005, 'tablet': 5004, 'tabl': 5003, 'tab': 5002, 'taab': 5001, 'ta': 5000, 'systems': 4999, 'system': 4998, 'syr': 4997, 'synt': 4996, 'synchron': 4995, 'syn': 4994, 'symbol': 4993, 'swol': 4992, 'switchoff': 4991, 'switchof': 4990, 'switch': 4989, 'swip': 4988, 'swim': 4987, 'swich': 4986, 'swi': 4985, 'swel': 4984, 'swear': 4983, 'swallow': 4982, 'suuuckkkk': 4981, 'sustain': 4980, 'surv': 4979, 'surround': 4978, 'surpr': 4977, 'surfac': 4976, 'surf': 4975, 'sur': 4974, 'supr': 4973, 'suppourt': 4972, 'suppos': 4971, 'supported': 4970, 'support': 4969, 'supplychain': 4968, 'supply': 4967, 'suppl': 4966, 'suport': 4965, 'supery': 4964, 'superv': 4963, 'superrrr': 4962, 'supercomnet': 4961, 'supercom': 4960, 'superblythat': 4959, 'superb': 4958, 'super': 4957, 'sup': 4956, 'suond': 4955, 'sunlight': 4954, 'sunday': 4953, 'sun': 4952, 'sumsung': 4951, 'sum': 4950, 'sujjest': 4949, 'suit': 4948, 'sugget': 4947, 'suggestionsfor': 4946, 'suggest': 4945, 'sugest': 4944, 'sug': 4943, 'sufficy': 4942, 'sufferthis': 4941, 'suffering': 4940, 'suff': 4939, 'sue': 4938, 'sudden': 4937, 'sudanl': 4936, 'sud': 4935, 'suck': 4934, 'such': 4933, 'success': 4932, 'subwoofer': 4931, 'subwoof': 4930, 'subway': 4929, 'substandard': 4928, 'subsequ': 4927, 'subscrib': 4926, 'submit': 4925, 'subject': 4924, 'sub': 4923, 'su': 4922, 'styl': 4921, 'stut': 4920, 'sturdyprovide': 4919, 'sturdy': 4918, 'stupidest': 4917, 'stupid': 4916, 'stun': 4915, 'stuff': 4914, 'study': 4913, 'stud': 4912, 'stuck': 4911, 'stubborn': 4910, 'stthere': 4909, 'struggling': 4908, 'struggle': 4907, 'structure': 4906, 'strucks': 4905, 'struckingi': 4904, 'strucking': 4903, 'struck': 4902, 'struc': 4901, 'strongly': 4900, 'strong': 4899, 'strips': 4898, 'strip': 4897, 'strictly': 4896, 'strict': 4895, 'strick': 4894, 'stretched': 4893, 'stress': 4892, 'strength': 4891, 'street': 4890, 'streaming': 4889, 'stream': 4888, 'strava': 4887, 'strategy': 4886, 'straps': 4885, 'strap': 4884, 'strange': 4883, 'stranded': 4882, 'straight': 4881, 'stov': 4880, 'story': 4879, 'storm': 4878, 'stored': 4877, 'store': 4876, 'stor': 4875, 'stop': 4874, 'stoop': 4873, 'ston': 4872, 'stock': 4871, 'sto': 4870, 'stitch': 4869, 'stip': 4868, 'stink': 4867, 'sting': 4866, 'stil': 4865, 'stiil': 4864, 'stick': 4863, 'stic': 4862, 'stereo': 4861, 'steps': 4860, 'step': 4859, 'stell': 4858, 'steel': 4857, 'stedy': 4856, 'steady': 4855, 'stead': 4854, 'ste': 4853, 'stcking': 4852, 'stay': 4851, 'statisf': 4850, 'stat': 4849, 'startup': 4848, 'startscamera': 4847, 'startits': 4846, 'startingbut': 4845, 'starting': 4844, 'startig': 4843, 'startedreally': 4842, 'started': 4841, 'startcheap': 4840, 'startas': 4839, 'start': 4838, 'starsbut': 4837, 'stars': 4836, 'star': 4835, 'standby': 4834, 'standard': 4833, 'standalon': 4832, 'stand': 4831, 'stal': 4830, 'stainless': 4829, 'stag': 4828, 'staff': 4827, 'staf': 4826, 'stabl': 4825, 'st': 4824, 'ssd': 4823, 'sry': 4822, 'srev': 4821, 'sreen': 4820, 'srceen': 4819, 'squash': 4818, 'spury': 4817, 'spring': 4816, 'spreadtrum': 4815, 'spreading': 4814, 'spr': 4813, 'spotlight': 4812, 'spotless': 4811, 'spot': 4810, 'sport': 4809, 'sporad': 4808, 'spons': 4807, 'spong': 4806, 'spok': 4805, 'spoil': 4804, 'spo': 4803, 'splash': 4802, 'spkr': 4801, 'spit': 4800, 'spind': 4799, 'spil': 4798, 'spik': 4797, 'spick': 4796, 'spic': 4795, 'spent': 4794, 'spend': 4793, 'spek': 4792, 'speek': 4791, 'speedy': 4790, 'speedo': 4789, 'speech': 4788, 'spee': 4787, 'spectcual': 4786, 'spect': 4785, 'speck': 4784, 'specifil': 4783, 'specification': 4782, 'specia': 4781, 'spec': 4780, 'speakers': 4779, 'speakerand': 4778, 'speaker': 4777, 'speak': 4776, 'spares': 4775, 'spar': 4774, 'span': 4773, 'spam': 4772, 'space': 4771, 'spac': 4770, 'sp': 4769, 'souu': 4768, 'sount': 4767, 'soundless': 4766, 'soundc': 4765, 'soundb': 4764, 'sound': 4763, 'sould': 4762, 'sorw': 4761, 'sort': 4760, 'sorry': 4759, 'soooo': 4758, 'sooo': 4757, 'soon': 4756, 'soomany': 4755, 'soo': 4754, 'sony': 4753, 'sonud': 4752, 'songi': 4751, 'song': 4750, 'sond': 4749, 'son': 4748, 'somth': 4747, 'somewh': 4746, 'somew': 4745, 'sometimes': 4744, 'sometim': 4743, 'someth': 4742, 'someoth': 4741, 'someon': 4740, 'someit': 4739, 'somehow': 4738, 'someday': 4737, 'somebody': 4736, 'some': 4735, 'somany': 4734, 'som': 4733, 'solv': 4732, 'solrathuku': 4731, 'solo': 4730, 'solitap': 4729, 'solid': 4728, 'soldy': 4727, 'sold': 4726, 'soik': 4725, 'sofw': 4724, 'software': 4723, 'softw': 4722, 'soft': 4721, 'soe': 4720, 'socket': 4719, 'socalled': 4718, 'soc': 4717, 'soap': 4716, 'so': 4715, 'snip': 4714, 'snatch': 4713, 'snappy': 4712, 'snapdragon': 4711, 'snap': 4710, 'sms': 4709, 'smoothtouch': 4708, 'smoothlyyou': 4707, 'smoothextreme': 4706, 'smooth': 4705, 'smoo': 4704, 'smoky': 4703, 'smok': 4702, 'smel': 4701, 'smash': 4700, 'smartwatch': 4699, 'smartwacht': 4698, 'smartphon': 4697, 'smartmod': 4696, 'smartb': 4695, 'smart': 4694, 'smallsize': 4693, 'small': 4692, 'smal': 4691, 'slug': 4690, 'slr': 4689, 'sloww': 4688, 'slowtake': 4687, 'slowmo': 4686, 'slowley': 4685, 'slowest': 4684, 'slowcamera': 4683, 'slow': 4682, 'slov': 4681, 'slot': 4680, 'slomo': 4679, 'slippery': 4678, 'slip': 4677, 'slim': 4676, 'slight': 4675, 'slid': 4674, 'slg': 4673, 'sleev': 4672, 'sleep': 4671, 'sleek': 4670, 'slat': 4669, 'slap': 4668, 'slack': 4667, 'sl': 4666, 'skullcandy': 4665, 'skip': 4664, 'skin': 4663, 'size': 4662, 'siz': 4661, 'six': 4660, 'situv': 4659, 'situ': 4658, 'site': 4657, 'sit': 4656, 'sistem': 4655, 'sist': 4654, 'sis': 4653, 'sirf': 4652, 'sir': 4651, 'sint': 4650, 'sink': 4649, 'singl': 4648, 'singh': 4647, 'sing': 4646, 'simult': 4645, 'simslot': 4644, 'simply': 4643, 'simpl': 4642, 'simmil': 4641, 'simil': 4640, 'sim': 4639, 'silv': 4638, 'silent': 4637, 'sild': 4636, 'sil': 4635, 'signl': 4634, 'sign': 4633, 'sight': 4632, 'sienhy': 4631, 'sideway': 4630, 'side': 4629, 'sid': 4628, 'sick': 4627, 'si': 4626, 'shutdown': 4625, 'shut': 4624, 'shring': 4623, 'shrill': 4622, 'shreyash': 4621, 'showroom': 4620, 'showpiec': 4619, 'shown': 4618, 'showcas': 4617, 'show': 4616, 'shout': 4615, 'should': 4614, 'shoud': 4613, 'shotout': 4612, 'shot': 4611, 'shortotherwise': 4610, 'shortcircuit': 4609, 'short': 4608, 'shop': 4607, 'shootonly': 4606, 'shoot': 4605, 'shock': 4604, 'sho': 4603, 'shiv': 4602, 'shipping': 4601, 'ship': 4600, 'shiny': 4599, 'shift': 4598, 'shew': 4597, 'sheet': 4596, 'she': 4595, 'shawn': 4594, 'shavephilips': 4593, 'shav': 4592, 'shat': 4591, 'sharpeningshapingstructure': 4590, 'sharp': 4589, 'shark': 4588, 'shar': 4587, 'shap': 4586, 'sham': 4585, 'shal': 4584, 'shak': 4583, 'shaft': 4582, 'shadow': 4581, 'shad': 4580, 'sewn': 4579, 'sevrv': 4578, 'sev': 4577, 'setup': 4576, 'settl': 4575, 'settingsdefault': 4574, 'settings': 4573, 'setisfy': 4572, 'setgetting': 4571, 'set': 4570, 'sess': 4569, 'sery': 4568, 'servy': 4567, 'service': 4566, 'serv': 4565, 'sert': 4564, 'serivc': 4563, 'seriouslythis': 4562, 'seriously': 4561, 'ser': 4560, 'sequ': 4559, 'septemb': 4558, 'sept': 4557, 'sep': 4556, 'seny': 4555, 'sent': 4554, 'sensor': 4553, 'sensitivity': 4552, 'sensit': 4551, 'senseless': 4550, 'senseeach': 4549, 'sens': 4548, 'sennh': 4547, 'send': 4546, 'semm': 4545, 'sem': 4544, 'seller': 4543, 'selfy': 4542, 'selfieover': 4541, 'selfi': 4540, 'self': 4539, 'select': 4538, 'sel': 4537, 'seid': 4536, 'seg': 4535, 'seev': 4534, 'seep': 4533, 'seen': 4532, 'seem': 4531, 'see': 4530, 'sednet': 4529, 'security': 4528, 'sect': 4527, 'secondry': 4526, 'secondly': 4525, 'second': 4524, 'secend': 4523, 'sec': 4522, 'seat': 4521, 'seary': 4520, 'search': 4519, 'seal': 4518, 'sea': 4517, 'se': 4516, 'sdusb': 4515, 'sd': 4514, 'scrolling': 4513, 'scroll': 4512, 'scrol': 4511, 'scrn': 4510, 'scripted': 4509, 'screws': 4508, 'screwed': 4507, 'screw': 4506, 'screenshot': 4505, 'screens': 4504, 'screen': 4503, 'screeen': 4502, 'screed': 4501, 'screeches': 4500, 'scratches': 4499, 'scratched': 4498, 'scratch': 4497, 'scrapped': 4496, 'scrape': 4495, 'scrap': 4494, 'scraches': 4493, 'scrached': 4492, 'scor': 4491, 'scoot': 4490, 'scold': 4489, 'scht': 4488, 'scheme': 4487, 'scheduled': 4486, 'schedule': 4485, 'scenario': 4484, 'scen': 4483, 'sceeen': 4482, 'scat': 4481, 'scaret': 4480, 'scar': 4479, 'scanner': 4478, 'scan': 4477, 'scamsterit': 4476, 'scamst': 4475, 'scam': 4474, 'scal': 4473, 'sbi': 4472, 'sayin': 4471, 'say': 4470, 'saw': 4469, 'save': 4468, 'sav': 4467, 'saund': 4466, 'satisfying': 4465, 'satisfy': 4464, 'satisfiedwaste': 4463, 'satisfiedvery': 4462, 'satisfiedso': 4461, 'satisfieddont': 4460, 'satisfied': 4459, 'satisfid': 4458, 'satisfact': 4457, 'satif': 4456, 'satiesfy': 4455, 'satellit': 4454, 'satelit': 4453, 'satbl': 4452, 'satan': 4451, 'sat': 4450, 'sarvec': 4449, 'sarv': 4448, 'saregam': 4447, 'sar': 4446, 'saportafter': 4445, 'saport': 4444, 'sankanak': 4443, 'sand': 4442, 'samz': 4441, 'samsung': 4440, 'samsu': 4439, 'sampl': 4438, 'samol': 4437, 'same': 4436, 'samata': 4435, 'sal': 4434, 'sak': 4433, 'said': 4432, 'saft': 4431, 'safar': 4430, 'saf': 4429, 'sad': 4428, 'sach': 4427, 'sabse': 4426, 'sabs': 4425, 'sabko': 4424, 'sab': 4423, 'sa': 4422, 'ryan': 4421, 'rwo': 4420, 'rvic': 4419, 'rust': 4418, 'rush': 4417, 'rur': 4416, 'ruppees': 4415, 'rup': 4414, 'runnot': 4413, 'runningb': 4412, 'run': 4411, 'rul': 4410, 'ruin': 4409, 'rug': 4408, 'ruf': 4407, 'rud': 4406, 'rubbisg': 4405, 'rub': 4404, 'rt': 4403, 'rswala': 4402, 'rs': 4401, 'rrequested': 4400, 'rquest': 4399, 'rplced': 4398, 'roy': 4397, 'row': 4396, 'rout': 4395, 'round': 4394, 'rough': 4393, 'roud': 4392, 'rot': 4391, 'root': 4390, 'room': 4389, 'rong': 4388, 'rom': 4387, 'rol': 4386, 'roku': 4385, 'roght': 4384, 'rog': 4383, 'rod': 4382, 'rock': 4381, 'robust': 4380, 'robot': 4379, 'roar': 4378, 'roam': 4377, 'roadsid': 4376, 'road': 4375, 'rmx': 4374, 'rms': 4373, 'risk': 4372, 'ris': 4371, 'riquest': 4370, 'rip': 4369, 'rington': 4368, 'ringlight': 4367, 'ringing': 4366, 'ring': 4365, 'rim': 4364, 'rigid': 4363, 'right': 4362, 'ridic': 4361, 'rid': 4360, 'ricoh': 4359, 'rich': 4358, 'ribbon': 4357, 'rhythem': 4356, 'rhe': 4355, 'rewrit': 4354, 'reward': 4353, 'reviewtoo': 4352, 'review': 4351, 'reviec': 4350, 'revert': 4349, 'revers': 4348, 'revenu': 4347, 'reveiw': 4346, 'reus': 4345, 'returnva': 4344, 'returnrefund': 4343, 'returni': 4342, 'returned': 4341, 'return': 4340, 'retun': 4339, 'retin': 4338, 'rethink': 4337, 'retern': 4336, 'retail': 4335, 'result': 4334, 'restrict': 4333, 'restartno': 4332, 'restart': 4331, 'restaring': 4330, 'rest': 4329, 'resspolit': 4328, 'respont': 4327, 'response': 4326, 'respons': 4325, 'respond': 4324, 'respect': 4323, 'resourc': 4322, 'resolv': 4321, 'resolu': 4320, 'resm': 4319, 'reslov': 4318, 'resistantnot': 4317, 'resist': 4316, 'resinstall': 4315, 'reset': 4314, 'reserv': 4313, 'resel': 4312, 'research': 4311, 'resched': 4310, 'resart': 4309, 'res': 4308, 'requst': 4307, 'requires': 4306, 'requirementit': 4305, 'require': 4304, 'requir': 4303, 'requests': 4302, 'requesting': 4301, 'requested': 4300, 'requestbut': 4299, 'request': 4298, 'reqiest': 4297, 'reput': 4296, 'reproduc': 4295, 'repres': 4294, 'repples': 4293, 'reppac': 4292, 'reporty': 4291, 'report': 4290, 'reply': 4289, 'replcedtosamsungaround': 4288, 'replay': 4287, 'replacethanks': 4286, 'replaceth': 4285, 'replacementreturn': 4284, 'replacementdont': 4283, 'replacement': 4282, 'replacem': 4281, 'replacednt': 4280, 'replace': 4279, 'replac': 4278, 'repet': 4277, 'repay': 4276, 'repar': 4275, 'repairno': 4274, 'repairbut': 4273, 'repair': 4272, 'repack': 4271, 'rep': 4270, 'reocc': 4269, 'reno': 4268, 'renew': 4267, 'reneg': 4266, 'rend': 4265, 'remut': 4264, 'remov': 4263, 'remoteif': 4262, 'remot': 4261, 'remort': 4260, 'remind': 4259, 'rememb': 4258, 'remem': 4257, 'remedy': 4256, 'remain': 4255, 'rely': 4254, 'reload': 4253, 'reliable': 4252, 'relev': 4251, 'releas': 4250, 'relay': 4249, 'relax': 4248, 'rel': 4247, 'rejectedwaste': 4246, 'rejectedlocal': 4245, 'reject': 4244, 'reinstal': 4243, 'reinsert': 4242, 'reimburs': 4241, 'regul': 4240, 'regret': 4239, 'registra': 4238, 'regards': 4237, 'regarding': 4236, 'regard': 4235, 'reg': 4234, 'refus': 4233, 'refurb': 4232, 'refundso': 4231, 'refund': 4230, 'refresh': 4229, 'refrain': 4228, 'refound': 4227, 'reflect': 4226, 'refil': 4225, 'reenabl': 4224, 'reducedcharging': 4223, 'reduc': 4222, 'redm': 4221, 'redirect': 4220, 'redio': 4219, 'redeem': 4218, 'red': 4217, 'recyc': 4216, 'recv': 4215, 'rect': 4214, 'recruit': 4213, 'recovery': 4212, 'recov': 4211, 'recording': 4210, 'record': 4209, 'reconsid': 4208, 'reconnect': 4207, 'recommend': 4206, 'recommand': 4205, 'recomend': 4204, 'recom': 4203, 'recognit': 4202, 'recogn': 4201, 'recod': 4200, 'reciev': 4199, 'recherg': 4198, 'recharg': 4197, 'receivednot': 4196, 'receiv': 4195, 'rece': 4194, 'recd': 4193, 'reccomend': 4192, 'recamended': 4191, 'rec': 4190, 'rebrush': 4189, 'rebrand': 4188, 'reboot': 4187, 'reasons': 4186, 'reason': 4185, 'rear': 4184, 'reaquest': 4183, 'reappear': 4182, 'ream': 4181, 'realtime': 4180, 'realmext': 4179, 'realmethis': 4178, 'realme': 4177, 'realm': 4176, 'reallyyy': 4175, 'real': 4174, 'ready': 4173, 'read': 4172, 'react': 4171, 'reach': 4170, 'rea': 4169, 're': 4168, 'rd': 4167, 'rcv': 4166, 'ray': 4165, 'rav': 4164, 'ratin': 4163, 'rath': 4162, 'rate': 4161, 'rat': 4160, 'rash': 4159, 'rarebetter': 4158, 'rar': 4157, 'rapid': 4156, 'rapair': 4155, 'rap': 4154, 'ranging': 4153, 'range': 4152, 'rang': 4151, 'random': 4150, 'ran': 4149, 'ramaxl': 4148, 'ram': 4147, 'rakhn': 4146, 'rais': 4145, 'raincov': 4144, 'rainbow': 4143, 'rain': 4142, 'rah': 4141, 'rael': 4140, 'rady': 4139, 'radiofm': 4138, 'radio': 4137, 'radd': 4136, 'rad': 4135, 'raat': 4134, 'raamleel': 4133, 'qyal': 4132, 'qwal': 4131, 'quy': 4130, 'qury': 4129, 'quot': 4128, 'qullit': 4127, 'qulit': 4126, 'qulaty': 4125, 'qula': 4124, 'qul': 4123, 'quity': 4122, 'quit': 4121, 'quilt': 4120, 'quilityink': 4119, 'quil': 4118, 'quiet': 4117, 'quicklyits': 4116, 'quick': 4115, 'quic': 4114, 'question': 4113, 'quest': 4112, 'query': 4111, 'quel': 4110, 'quay': 4109, 'quat': 4108, 'quarry': 4107, 'quant': 4106, 'qualtiy': 4105, 'qualityvery': 4104, 'qualitythis': 4103, 'qualitythe': 4102, 'qualityplease': 4101, 'qualitymobile': 4100, 'qualityits': 4099, 'qualityit': 4098, 'qualityeverybudy': 4097, 'qualitydont': 4096, 'qualitydo': 4095, 'qualitydefective': 4094, 'qualitybut': 4093, 'qualitybroken': 4092, 'quality': 4091, 'qualitty': 4090, 'qualcom': 4089, 'qual': 4088, 'quail': 4087, 'quadr': 4086, 'qr': 4085, 'qoulitiy': 4084, 'qoul': 4083, 'qouil': 4082, 'qolaty': 4081, 'qol': 4080, 'qlty': 4079, 'qlity': 4078, 'qil': 4077, 'qc': 4076, 'qaul': 4075, 'qa': 4074, 'pz': 4073, 'py': 4072, 'pvt': 4071, 'pvc': 4070, 'putchas': 4069, 'put': 4068, 'push': 4067, 'purpos': 4066, 'purpl': 4065, 'purest': 4064, 'purchesd': 4063, 'purches': 4062, 'purchasw': 4061, 'purchasevery': 4060, 'purchaseits': 4059, 'purchasei': 4058, 'purchasefeel': 4057, 'purchasedin': 4056, 'purchased': 4055, 'purchasebut': 4054, 'purchase': 4053, 'purchas': 4052, 'purchac': 4051, 'purch': 4050, 'purcas': 4049, 'pur': 4048, 'puppy': 4047, 'pup': 4046, 'punjab': 4045, 'punda': 4044, 'pund': 4043, 'punchy': 4042, 'pump': 4041, 'puls': 4040, 'pul': 4039, 'pugb': 4038, 'pud': 4037, 'pucho': 4036, 'puchas': 4035, 'publ': 4034, 'pubgcall': 4033, 'pubg': 4032, 'pub': 4031, 'ptoduc': 4030, 'ptodect': 4029, 'pseudo': 4028, 'pruf': 4027, 'prudact': 4026, 'proxy': 4025, 'proxim': 4024, 'provided': 4023, 'provid': 4022, 'prov': 4021, 'prouduc': 4020, 'proudect': 4019, 'proudct': 4018, 'proud': 4017, 'prouct': 4016, 'protron': 4015, 'protract': 4014, 'protect': 4013, 'pross': 4012, 'proses': 4011, 'pros': 4010, 'propr': 4009, 'propey': 4008, 'property': 4007, 'propermany': 4006, 'properlywaste': 4005, 'properlysome': 4004, 'properlyon': 4003, 'properlybroken': 4002, 'properly': 4001, 'proper': 4000, 'prop': 3999, 'proof': 3998, 'prompt': 3997, 'promot': 3996, 'promin': 3995, 'prom': 3994, 'prolong': 3993, 'prolit': 3992, 'project': 3991, 'proim': 3990, 'progress': 3989, 'program': 3988, 'profit': 3987, 'profil': 3986, 'profess': 3985, 'profarm': 3984, 'profam': 3983, 'produuct': 3982, 'produt': 3981, 'produproduc': 3980, 'produect': 3979, 'producut': 3978, 'productwatch': 3977, 'productwaste': 3976, 'producttotaly': 3975, 'producttotally': 3974, 'productthis': 3973, 'productthey': 3972, 'productthe': 3971, 'productspecification': 3970, 'productso': 3969, 'productsflipkart': 3968, 'products': 3967, 'productreturn': 3966, 'productpls': 3965, 'productnot': 3964, 'productno': 3963, 'productnever': 3962, 'productmore': 3961, 'productits': 3960, 'productit': 3959, 'production': 3958, 'productim': 3957, 'producti': 3956, 'producthate': 3955, 'producthanging': 3954, 'productfull': 3953, 'productflipkart': 3952, 'productdont': 3951, 'productconnecting': 3950, 'productchaina': 3949, 'productbattery': 3948, 'productand': 3947, 'productafter': 3946, 'product': 3945, 'produck': 3944, 'produc': 3943, 'produ': 3942, 'prodot': 3941, 'prodoct': 3940, 'prodect': 3939, 'prodec': 3938, 'prodcut': 3937, 'prodct': 3936, 'prodc': 3935, 'prodaktfack': 3934, 'prodact': 3933, 'proct': 3932, 'process': 3931, 'procduc': 3930, 'proc': 3929, 'probuct': 3928, 'problm': 3927, 'problemvery': 3926, 'problemthe': 3925, 'problemsnot': 3924, 'problemsit': 3923, 'problems': 3922, 'problemnow': 3921, 'problemhanging': 3920, 'problemcatridge': 3919, 'problembattery': 3918, 'problematic': 3917, 'problemand': 3916, 'problem': 3915, 'problam': 3914, 'probl': 3913, 'probass': 3912, 'prob': 3911, 'pro': 3910, 'priz': 3909, 'privacydata': 3908, 'priv': 3907, 'pris': 3906, 'printout': 3905, 'printerit': 3904, 'printeri': 3903, 'printer': 3902, 'print': 3901, 'prim': 3900, 'priduc': 3899, 'pricehated': 3898, 'price': 3897, 'pric': 3896, 'pri': 3895, 'prevy': 3894, 'prevail': 3893, 'prev': 3892, 'pretty': 3891, 'prettty': 3890, 'presum': 3889, 'presslong': 3888, 'press': 3887, 'pres': 3886, 'prepaid': 3885, 'prep': 3884, 'preord': 3883, 'prem': 3882, 'preload': 3881, 'preinstal': 3880, 'prefer': 3879, 'pref': 3878, 'precy': 3877, 'precid': 3876, 'precauty': 3875, 'prec': 3874, 'pre': 3873, 'prblmcamera': 3872, 'prblm': 3871, 'prayagras': 3870, 'pray': 3869, 'praduc': 3868, 'pract': 3867, 'ppt': 3866, 'ppsition': 3865, 'pple': 3864, 'ppl': 3863, 'pozub': 3862, 'poweron': 3861, 'powernot': 3860, 'powerh': 3859, 'power': 3858, 'powd': 3857, 'pow': 3856, 'pour': 3855, 'poudect': 3854, 'pouch': 3853, 'pothu': 3852, 'potav': 3851, 'pot': 3850, 'post': 3849, 'possy': 3848, 'possible': 3847, 'possess': 3846, 'poss': 3845, 'positive': 3844, 'posit': 3843, 'portsi': 3842, 'portron': 3841, 'portrait': 3840, 'porton': 3839, 'portal': 3838, 'port': 3837, 'porperlyafter': 3836, 'poroduc': 3835, 'porduc': 3834, 'pordet': 3833, 'pordac': 3832, 'pord': 3831, 'porbalm': 3830, 'por': 3829, 'popup': 3828, 'pop': 3827, 'poov': 3826, 'pooru': 3825, 'poorthis': 3824, 'poorthe': 3823, 'poorquality': 3822, 'poorplease': 3821, 'pooronly': 3820, 'poornot': 3819, 'poormoney': 3818, 'poorlow': 3817, 'poori': 3816, 'poorhp': 3815, 'poorest': 3814, 'pooraround': 3813, 'poorand': 3812, 'poor': 3811, 'poooooorr': 3810, 'pooooo': 3809, 'pooo': 3808, 'poo': 3807, 'polyest': 3806, 'polv': 3805, 'polit': 3804, 'policywhat': 3803, 'policythe': 3802, 'policy': 3801, 'pol': 3800, 'poko': 3799, 'point': 3798, 'poducet': 3797, 'poduc': 3796, 'pod': 3795, 'poco': 3794, 'pocket': 3793, 'poar': 3792, 'po': 3791, 'pm': 3790, 'plzzzzzzzz': 3789, 'plzzzz': 3788, 'plzzz': 3787, 'plzz': 3786, 'plzplznot': 3785, 'plz': 3784, 'ply': 3783, 'plusbetter': 3782, 'plusafter': 3781, 'plus': 3780, 'pluggin': 3779, 'plug': 3778, 'pluck': 3777, 'plu': 3776, 'plsssd': 3775, 'plsss': 3774, 'plss': 3773, 'plsdo': 3772, 'pls': 3771, 'plm': 3770, 'please': 3769, 'pleas': 3768, 'plea': 3767, 'ple': 3766, 'pldo': 3765, 'playst': 3764, 'playl': 3763, 'playingcharg': 3762, 'playback': 3761, 'play': 3760, 'platform': 3759, 'plat': 3758, 'plastik': 3757, 'plastic': 3756, 'plast': 3755, 'plank': 3754, 'planet': 3753, 'plan': 3752, 'plagu': 3751, 'plac': 3750, 'pl': 3749, 'pixm': 3748, 'pixelnorm': 3747, 'pixel': 3746, 'pix': 3745, 'pity': 3744, 'pitch': 3743, 'pip': 3742, 'pink': 3741, 'ping': 3740, 'pin': 3739, 'piecethen': 3738, 'piecei': 3737, 'piecebattery': 3736, 'piec': 3735, 'picturetub': 3734, 'picturesphoto': 3733, 'pict': 3732, 'pics': 3731, 'pickup': 3730, 'pick': 3729, 'pic': 3728, 'pian': 3727, 'phys': 3726, 'photosphone': 3725, 'photosnormal': 3724, 'photographersmay': 3723, 'photograph': 3722, 'photo': 3721, 'phonr': 3720, 'phonewast': 3719, 'phonessame': 3718, 'phonescreen': 3717, 'phones': 3716, 'phonerear': 3715, 'phonepleas': 3714, 'phonenot': 3713, 'phonemy': 3712, 'phoneinstead': 3711, 'phoneincall': 3710, 'phonei': 3709, 'phoneheating': 3708, 'phoneeverything': 3707, 'phonedelivered': 3706, 'phoneclarity': 3705, 'phonecamera': 3704, 'phonebook': 3703, 'phone': 3702, 'phon': 3701, 'phn': 3700, 'phin': 3699, 'phillip': 3698, 'philipkart': 3697, 'philip': 3696, 'phenom': 3695, 'pharchas': 3694, 'phantom': 3693, 'phab': 3692, 'ph': 3691, 'pg': 3690, 'pet': 3689, 'persuas': 3688, 'person': 3687, 'persist': 3686, 'permonce': 3685, 'permit': 3684, 'perm': 3683, 'periph': 3682, 'periodthe': 3681, 'periodso': 3680, 'period': 3679, 'perhap': 3678, 'perfrom': 3677, 'performerthe': 3676, 'performanceyou': 3675, 'performancewith': 3674, 'performancewis': 3673, 'performancepleas': 3672, 'performanceif': 3671, 'performance': 3670, 'perform': 3669, 'perfom': 3668, 'perfectly': 3667, 'perfect': 3666, 'perf': 3665, 'perchas': 3664, 'percentage': 3663, 'percent': 3662, 'perceiv': 3661, 'perc': 3660, 'per': 3659, 'peopleif': 3658, 'peopl': 3657, 'peocess': 3656, 'penny': 3655, 'pendem': 3654, 'pendam': 3653, 'pencil': 3652, 'pen': 3651, 'pekap': 3650, 'peic': 3649, 'peel': 3648, 'pedomet': 3647, 'pedd': 3646, 'peculi': 3645, 'pebbl': 3644, 'peas': 3643, 'peac': 3642, 'pdt': 3641, 'pdf': 3640, 'pcm': 3639, 'pc': 3638, 'pbon': 3637, 'payback': 3636, 'payam': 3635, 'pay': 3634, 'paw': 3633, 'pavil': 3632, 'pausing': 3631, 'pausedplay': 3630, 'paus': 3629, 'paty': 3628, 'pattern': 3627, 'patients': 3626, 'pathetic': 3625, 'pathet': 3624, 'path': 3623, 'patchy': 3622, 'patch': 3621, 'pat': 3620, 'past': 3619, 'password': 3618, 'passin': 3617, 'pass': 3616, 'pasand': 3615, 'party': 3614, 'partn': 3613, 'partit': 3612, 'particul': 3611, 'particip': 3610, 'partic': 3609, 'part': 3608, 'parsel': 3607, 'parphorm': 3606, 'parouct': 3605, 'parfomemc': 3604, 'parfect': 3603, 'pardoct': 3602, 'parch': 3601, 'parcenteg': 3600, 'parcel': 3599, 'paramet': 3598, 'parallel': 3597, 'par': 3596, 'pap': 3595, 'pannel': 3594, 'panel': 3593, 'pandem': 3592, 'panason': 3591, 'pan': 3590, 'palst': 3589, 'palm': 3588, 'palc': 3587, 'pal': 3586, 'pakk': 3585, 'paket': 3584, 'pak': 3583, 'pais': 3582, 'pair': 3581, 'paint': 3580, 'painig': 3579, 'painful': 3578, 'pain': 3577, 'paid': 3576, 'pai': 3575, 'pagullthudh': 3574, 'pages': 3573, 'page': 3572, 'pag': 3571, 'pad': 3570, 'packup': 3569, 'packno': 3568, 'packet': 3567, 'packand': 3566, 'packagether': 3565, 'pack': 3564, 'paca': 3563, 'pac': 3562, 'oz': 3561, 'oy': 3560, 'oxymet': 3559, 'oxyg': 3558, 'oxy': 3557, 'oximet': 3556, 'ox': 3555, 'own': 3554, 'ow': 3553, 'overpr': 3552, 'overnight': 3551, 'overload': 3550, 'overhyp': 3549, 'overheatedcharging': 3548, 'overheated': 3547, 'overh': 3546, 'overall': 3545, 'overal': 3544, 'over': 3543, 'ov': 3542, 'outstand': 3541, 'outsid': 3540, 'outsatand': 3539, 'outputbin': 3538, 'output': 3537, 'outlook': 3536, 'outlet': 3535, 'outgo': 3534, 'outdo': 3533, 'outdated': 3532, 'outd': 3531, 'out': 3530, 'oul': 3529, 'otp': 3528, 'otherw': 3527, 'otherthis': 3526, 'othersw': 3525, 'othersid': 3524, 'oth': 3523, 'otg': 3522, 'ot': 3521, 'ost': 3520, 'oss': 3519, 'osmits': 3518, 'osm': 3517, 'os': 3516, 'oroduc': 3515, 'ormak': 3514, 'original': 3513, 'origin': 3512, 'orgin': 3511, 'oreo': 3510, 'ordin': 3509, 'orderit': 3508, 'orderflipkart': 3507, 'ord': 3506, 'orang': 3505, 'or': 3504, 'optn': 3503, 'optionsso': 3502, 'option': 3501, 'optimization': 3500, 'optim': 3499, 'opt': 3498, 'opret': 3497, 'oppovivo': 3496, 'opposit': 3495, 'oppos': 3494, 'oppon': 3493, 'oppo': 3492, 'opp': 3491, 'opon': 3490, 'opn': 3489, 'opin': 3488, 'open': 3487, 'op': 3486, 'oof': 3485, 'onward': 3484, 'onthe': 3483, 'onsit': 3482, 'onreplacement': 3481, 'onoff': 3480, 'onlysome': 3479, 'only': 3478, 'onlinebizsip': 3477, 'online': 3476, 'onlin': 3475, 'onl': 3474, 'onin': 3473, 'onid': 3472, 'ongo': 3471, 'onewast': 3470, 'onesid': 3469, 'onescreen': 3468, 'onepl': 3467, 'onei': 3466, 'one': 3465, 'onand': 3464, 'on': 3463, 'omelet': 3462, 'ombl': 3461, 'oly': 3460, 'olx': 3459, 'oldus': 3458, 'old': 3457, 'ol': 3456, 'oky': 3455, 'okok': 3454, 'okk': 3453, 'okey': 3452, 'okay': 3451, 'oka': 3450, 'ok': 3449, 'oi': 3448, 'ohkkk': 3447, 'oh': 3446, 'oftensuch': 3445, 'often': 3444, 'oft': 3443, 'offr': 3442, 'offon': 3441, 'offnot': 3440, 'offline': 3439, 'offlin': 3438, 'offin': 3437, 'offf': 3436, 'offeven': 3435, 'offcours': 3434, 'off': 3433, 'oerfect': 3432, 'od': 3431, 'october': 3430, 'octob': 3429, 'oct': 3428, 'occursnot': 3427, 'occur': 3426, 'occtop': 3425, 'occas': 3424, 'occ': 3423, 'obvy': 3422, 'obstruct': 3421, 'obsolet': 3420, 'observ': 3419, 'obl': 3418, 'object': 3417, 'ob': 3416, 'oarfact': 3415, 'nyc': 3414, 'nw': 3413, 'nvr': 3412, 'nut': 3411, 'nurs': 3410, 'nunb': 3409, 'numbnuts': 3408, 'numbername': 3407, 'number': 3406, 'numb': 3405, 'num': 3404, 'nt': 3403, 'nsystem': 3402, 'nsi': 3401, 'nozel': 3400, 'nowh': 3399, 'nowaday': 3398, 'now': 3397, 'novemb': 3396, 'novel': 3395, 'nov': 3394, 'notwork': 3393, 'notttt': 3392, 'notification': 3391, 'notificatio': 3390, 'nothing': 3389, 'noth': 3388, 'notgood': 3387, 'note': 3386, 'notch': 3385, 'notand': 3384, 'not': 3383, 'norma': 3382, 'norm': 3381, 'norespond': 3380, 'nordmy': 3379, 'nord': 3378, 'nor': 3377, 'noon': 3376, 'nont': 3375, 'nonsens': 3374, 'nonliving': 3373, 'nonios': 3372, 'nonfunctioning': 3371, 'nonbranded': 3370, 'non': 3369, 'nomin': 3368, 'nok': 3367, 'noisylike': 3366, 'noisy': 3365, 'noisefit': 3364, 'nois': 3363, 'noic': 3362, 'noe': 3361, 'nod': 3360, 'nobody': 3359, 'nobdy': 3358, 'nobattery': 3357, 'no': 3356, 'nlt': 3355, 'nline': 3354, 'nith': 3353, 'nit': 3352, 'nis': 3351, 'nirm': 3350, 'nippl': 3349, 'niland': 3348, 'nil': 3347, 'nikon': 3346, 'nikl': 3345, 'nightm': 3344, 'night': 3343, 'niec': 3342, 'nic': 3341, 'ni': 3340, 'nht': 3339, 'nhi': 3338, 'ng': 3337, 'next': 3336, 'nex': 3335, 'new': 3334, 'neverev': 3333, 'never': 3332, 'nev': 3331, 'networkvery': 3330, 'network': 3329, 'netspee': 3328, 'netflix': 3327, 'net': 3326, 'ness': 3325, 'nephew': 3324, 'neo': 3323, 'nen': 3322, 'nekal': 3321, 'neith': 3320, 'nehru': 3319, 'neglig': 3318, 'neg': 3317, 'need': 3316, 'nee': 3315, 'ned': 3314, 'neckband': 3313, 'neck': 3312, 'necess': 3311, 'neb': 3310, 'nearest': 3309, 'nearby': 3308, 'near': 3307, 'neakband': 3306, 'ne': 3305, 'nd': 3304, 'nce': 3303, 'nc': 3302, 'navig': 3301, 'nath': 3300, 'nat': 3299, 'narzo': 3298, 'narozo': 3297, 'nap': 3296, 'nano': 3295, 'name': 3294, 'nam': 3293, 'nall': 3292, 'naku': 3291, 'naic': 3290, 'nai': 3289, 'nah': 3288, 'nagative': 3287, 'na': 3286, 'mysuru': 3285, 'myoney': 3284, 'my': 3283, 'mx': 3282, 'mwent': 3281, 'mut': 3280, 'mustach': 3279, 'must': 3278, 'music': 3277, 'mush': 3276, 'mus': 3275, 'murugan': 3274, 'mumba': 3273, 'multitouch': 3272, 'multitask': 3271, 'multipl': 3270, 'multimed': 3269, 'multicol': 3268, 'multi': 3267, 'mult': 3266, 'mulfunct': 3265, 'mul': 3264, 'muffl': 3263, 'muchwithin': 3262, 'muchspeaker': 3261, 'muchnot': 3260, 'muchit': 3259, 'muchany': 3258, 'much': 3257, 'mtrs': 3256, 'mths': 3255, 'mt': 3254, 'msst': 3253, 'msgs': 3252, 'msg': 3251, 'mseb': 3250, 'ms': 3249, 'mrp': 3248, 'mp': 3247, 'movy': 3246, 'moving': 3245, 'mov': 3244, 'mous': 3243, 'mouny': 3242, 'mounth': 3241, 'mount': 3240, 'mould': 3239, 'mou': 3238, 'motrol': 3237, 'motorollawithin': 3236, 'motorol': 3235, 'motorcyc': 3234, 'moto': 3233, 'motherbord': 3232, 'motherboard': 3231, 'moth': 3230, 'motamuti': 3229, 'motamut': 3228, 'mot': 3227, 'most': 3226, 'morn': 3225, 'moreth': 3224, 'moreov': 3223, 'moreits': 3222, 'more': 3221, 'mor': 3220, 'moon': 3219, 'mood': 3218, 'mony': 3217, 'monwy': 3216, 'monts': 3215, 'monthscompany': 3214, 'months': 3213, 'monthold': 3212, 'monthneed': 3211, 'monthmaximum': 3210, 'month': 3209, 'montg': 3208, 'mont': 3207, 'monopo': 3206, 'monochrom': 3205, 'mono': 3204, 'monitor': 3203, 'monit': 3202, 'moneyyyyyyyyyyy': 3201, 'moneyworst': 3200, 'moneythen': 3199, 'moneyplease': 3198, 'moneyon': 3197, 'moneyno': 3196, 'moneyits': 3195, 'moneyit': 3194, 'moneyflipkart': 3193, 'moneyearlier': 3192, 'moneydont': 3191, 'moneydisplay': 3190, 'moneycamera': 3189, 'moneybattery': 3188, 'moneyand': 3187, 'moneyafter': 3186, 'money': 3185, 'monday': 3184, 'mon': 3183, 'momth': 3182, 'moment': 3181, 'mom': 3180, 'mok': 3179, 'moist': 3178, 'modil': 3177, 'model': 3176, 'mode': 3175, 'mod': 3174, 'mobths': 3173, 'mobl': 3172, 'mobipad': 3171, 'mobilespeed': 3170, 'mobilesoftw': 3169, 'mobiles': 3168, 'mobileit': 3167, 'mobiledublicated': 3166, 'mobilecamera': 3165, 'mobilebgmi': 3164, 'mobilebaitry': 3163, 'mobile': 3162, 'mobail': 3161, 'mob': 3160, 'mo': 3159, 'mnts': 3158, 'mnths': 3157, 'mnth': 3156, 'mm': 3155, 'ml': 3154, 'mkv': 3153, 'mkt': 3152, 'mk': 3151, 'mix': 3150, 'miv': 3149, 'miui': 3148, 'miu': 3147, 'mitash': 3146, 'mistrust': 3145, 'mistek': 3144, 'mistak': 3143, 'missing': 3142, 'miss': 3141, 'mismatch': 3140, 'mislead': 3139, 'mishandl': 3138, 'misbehav': 3137, 'mis': 3136, 'mirrorcast': 3135, 'miny': 3134, 'minutesworst': 3133, 'minutesplz': 3132, 'minutes': 3131, 'minute': 3130, 'minut': 3129, 'minuet': 3128, 'mintu': 3127, 'mintes': 3126, 'mint': 3125, 'mins': 3124, 'minnt': 3123, 'miniut': 3122, 'minitue': 3121, 'minit': 3120, 'minim': 3119, 'minecraft': 3118, 'mindfew': 3117, 'mind': 3116, 'minat': 3115, 'min': 3114, 'milt': 3113, 'milline': 3112, 'mildest': 3111, 'milat': 3110, 'milanes': 3109, 'mil': 3108, 'mik': 3107, 'might': 3106, 'midrang': 3105, 'middl': 3104, 'middeep': 3103, 'mid': 3102, 'microwav': 3101, 'microusb': 3100, 'microsoft': 3099, 'microphon': 3098, 'micromax': 3097, 'microax': 3096, 'micro': 3095, 'mick': 3094, 'mic': 3093, 'mi': 3092, 'mha': 3091, 'mh': 3090, 'mg': 3089, 'mfg': 3088, 'mf': 3087, 'metro': 3086, 'method': 3085, 'met': 3084, 'message': 3083, 'mess': 3082, 'mesh': 3081, 'mer': 3080, 'meny': 3079, 'menu': 3078, 'mento': 3077, 'mentioned': 3076, 'ment': 3075, 'men': 3074, 'memoj': 3073, 'memb': 3072, 'mem': 3071, 'melt': 3070, 'melody': 3069, 'mein': 3068, 'megapixl': 3067, 'megapixel': 3066, 'meg': 3065, 'meet': 3064, 'mediocr': 3063, 'mediatek': 3062, 'mediateck': 3061, 'med': 3060, 'mech': 3059, 'meat': 3058, 'measu': 3057, 'meas': 3056, 'meant': 3055, 'mean': 3054, 'me': 3053, 'mdsxb': 3052, 'mcb': 3051, 'mbps': 3050, 'mb': 3049, 'mayb': 3048, 'may': 3047, 'maxim': 3046, 'max': 3045, 'matherfouk': 3044, 'matet': 3043, 'materiel': 3042, 'materialsome': 3041, 'material': 3040, 'mater': 3039, 'match': 3038, 'mat': 3037, 'mast': 3036, 'massacr': 3035, 'mass': 3034, 'marx': 3033, 'martin': 3032, 'markthe': 3031, 'markits': 3030, 'markin': 3029, 'marketyou': 3028, 'marketplac': 3027, 'marketed': 3026, 'market': 3025, 'markapps': 3024, 'mark': 3023, 'margin': 3022, 'march': 3021, 'maplin': 3020, 'map': 3019, 'maoney': 3018, 'many': 3017, 'manufact': 3016, 'manod': 3015, 'manny': 3014, 'mangwaliy': 3013, 'maney': 3012, 'maneuv': 3011, 'manager': 3010, 'man': 3009, 'mamo': 3008, 'malfunct': 3007, 'mal': 3006, 'makh': 3005, 'makeshift': 3004, 'mak': 3003, 'majo': 3002, 'maj': 3001, 'maintain': 3000, 'maint': 2999, 'main': 2998, 'mail': 2997, 'mai': 2996, 'mahang': 2995, 'mah': 2994, 'magnetomet': 2993, 'magnet': 2992, 'magapix': 2991, 'mag': 2990, 'mad': 2989, 'macro': 2988, 'machin': 2987, 'machanmaraa': 2986, 'mach': 2985, 'macchin': 2984, 'macbooklaptop': 2983, 'macbook': 2982, 'mac': 2981, 'lying': 2980, 'ly': 2979, 'luxuryif': 2978, 'lum': 2977, 'lucr': 2976, 'lucky': 2975, 'luck': 2974, 'lte': 2973, 'ltd': 2972, 'lt': 2971, 'lowi': 2970, 'lowest': 2969, 'low': 2968, 'lov': 2967, 'lousy': 2966, 'loudspeek': 2965, 'loud': 2964, 'lotty': 2963, 'lotscenario': 2962, 'lot': 2961, 'lost': 2960, 'losss': 2959, 'loss': 2958, 'los': 2957, 'loptop': 2956, 'loptap': 2955, 'loot': 2954, 'loose': 2953, 'loos': 2952, 'loop': 2951, 'loook': 2950, 'lookw': 2949, 'looks': 2948, 'look': 2947, 'loo': 2946, 'longterm': 2945, 'longetim': 2944, 'long': 2943, 'lol': 2942, 'logo': 2941, 'login': 2940, 'log': 2939, 'lodg': 2938, 'locked': 2937, 'lockdown': 2936, 'lock': 2935, 'loc': 2934, 'loas': 2933, 'load': 2932, 'lo': 2931, 'lnk': 2930, 'll': 2929, 'liy': 2928, 'liv': 2927, 'littlery': 2926, 'littl': 2925, 'litilbit': 2924, 'lit': 2923, 'list': 2922, 'lispsynt': 2921, 'lisin': 2920, 'lis': 2919, 'liquid': 2918, 'linux': 2917, 'link': 2916, 'lin': 2915, 'limp': 2914, 'limit': 2913, 'limelight': 2912, 'lil': 2911, 'likeg': 2910, 'like': 2909, 'lik': 2908, 'ligt': 2907, 'lightweight': 2906, 'lighting': 2905, 'lightbulb': 2904, 'light': 2903, 'lift': 2902, 'lifetim': 2901, 'lifeth': 2900, 'lifemus': 2899, 'lifei': 2898, 'lifecycl': 2897, 'life': 2896, 'lif': 2895, 'lie': 2894, 'lid': 2893, 'licens': 2892, 'lic': 2891, 'li': 2890, 'lg': 2889, 'leveno': 2888, 'level': 2887, 'lev': 2886, 'let': 2885, 'lest': 2884, 'lessyou': 2883, 'lesssoftware': 2882, 'lesson': 2881, 'less': 2880, 'leptop': 2879, 'lent': 2878, 'lens': 2877, 'lenovo': 2876, 'lengthy': 2875, 'length': 2874, 'leng': 2873, 'lenevo': 2872, 'lena': 2871, 'len': 2870, 'lekin': 2869, 'legdont': 2868, 'leg': 2867, 'left': 2866, 'ledhu': 2865, 'leddont': 2864, 'led': 2863, 'lect': 2862, 'leav': 2861, 'least': 2860, 'learnt': 2859, 'learn': 2858, 'leak': 2857, 'leag': 2856, 'leaft': 2855, 'leaf': 2854, 'lead': 2853, 'le': 2852, 'lcd': 2851, 'lbp': 2850, 'lazy': 2849, 'laym': 2848, 'lay': 2847, 'lavk': 2846, 'lavel': 2845, 'lavadisplay': 2844, 'lav': 2843, 'launch': 2842, 'laugh': 2841, 'latest': 2840, 'lateron': 2839, 'lat': 2838, 'lasting': 2837, 'last': 2836, 'laserjet': 2835, 'las': 2834, 'larg': 2833, 'laptopotherwise': 2832, 'laptop': 2831, 'laptap': 2830, 'laps': 2829, 'lap': 2828, 'lant': 2827, 'langu': 2826, 'landscap': 2825, 'lamin': 2824, 'lamberat': 2823, 'lam': 2822, 'lakh': 2821, 'lak': 2820, 'lagone': 2819, 'laggy': 2818, 'lagging': 2817, 'lag': 2816, 'lady': 2815, 'lacps': 2814, 'lackada': 2813, 'lack': 2812, 'labo': 2811, 'label': 2810, 'laavo': 2809, 'laag': 2808, 'kya': 2807, 'kwick': 2806, 'kumarbabu': 2805, 'kudo': 2804, 'kud': 2803, 'kualit': 2802, 'krison': 2801, 'kre': 2800, 'kos': 2799, 'korav': 2798, 'kont': 2797, 'konjam': 2796, 'kolkat': 2795, 'kolathill': 2794, 'kol': 2793, 'koi': 2792, 'kohil': 2791, 'koch': 2790, 'knw': 2789, 'known': 2788, 'knowledg': 2787, 'know': 2786, 'knob': 2785, 'knew': 2784, 'kn': 2783, 'kms': 2782, 'km': 2781, 'klv': 2780, 'kk': 2779, 'kitk': 2778, 'kit': 2777, 'kio': 2776, 'kingson': 2775, 'kind': 2774, 'kim': 2773, 'kil': 2772, 'kiddin': 2771, 'kid': 2770, 'kick': 2769, 'ki': 2768, 'khub': 2767, 'kho': 2766, 'khatam': 2765, 'kharid': 2764, 'kharab': 2763, 'khan': 2762, 'kg': 2761, 'keypad': 2760, 'keygaurd': 2759, 'keybord': 2758, 'keyboard': 2757, 'key': 2756, 'kereok': 2755, 'keral': 2754, 'kept': 2753, 'kenon': 2752, 'kek': 2751, 'keev': 2750, 'keep': 2749, 'keem': 2748, 'ke': 2747, 'kchre': 2746, 'kbut': 2745, 'kb': 2744, 'kateng': 2743, 'kart': 2742, 'karo': 2741, 'karnatak': 2740, 'karaok': 2739, 'kar': 2738, 'kanishetty': 2737, 'kan': 2736, 'kamjo': 2735, 'kal': 2734, 'kah': 2733, 'kabh': 2732, 'jyad': 2731, 'jvc': 2730, 'just': 2729, 'jus': 2728, 'junk': 2727, 'june': 2726, 'jun': 2725, 'jumpropeskipping': 2724, 'jump': 2723, 'jumbo': 2722, 'july': 2721, 'judg': 2720, 'jst': 2719, 'joystick': 2718, 'joy': 2717, 'josh': 2716, 'jok': 2715, 'joint': 2714, 'join': 2713, 'job': 2712, 'jittery': 2711, 'jio': 2710, 'jibraalt': 2709, 'jhand': 2708, 'jewel': 2707, 'jet': 2706, 'jellyb': 2705, 'jeev': 2704, 'jeer': 2703, 'jeck': 2702, 'jbl': 2701, 'jayeng': 2700, 'jayeg': 2699, 'jaw': 2698, 'jav': 2697, 'jaund': 2696, 'jat': 2695, 'jar': 2694, 'japanes': 2693, 'janu': 2692, 'jan': 2691, 'jam': 2690, 'jais': 2689, 'jain': 2688, 'jai': 2687, 'jack': 2686, 'jabr': 2685, 'jaal': 2684, 'iyem': 2683, 'iw': 2682, 'ivoom': 2681, 'iv': 2680, 'itz': 2679, 'itun': 2678, 'itthis': 2677, 'itstill': 2676, 'its': 2675, 'itplease': 2674, 'itphone': 2673, 'itone': 2672, 'itn': 2671, 'itm': 2670, 'itl': 2669, 'itit': 2668, 'itiam': 2667, 'iti': 2666, 'itemvery': 2665, 'itemsmall': 2664, 'items': 2663, 'item': 2662, 'iteam': 2661, 'itching': 2660, 'itchaina': 2659, 'itand': 2658, 'itam': 2657, 'itad': 2656, 'it': 2655, 'isuu': 2654, 'isus': 2653, 'isu': 2652, 'isth': 2651, 'istem': 2650, 'issues': 2649, 'issuepoco': 2648, 'issueafter': 2647, 'issue': 2646, 'issu': 2645, 'isssu': 2644, 'iss': 2643, 'israel': 2642, 'isnt': 2641, 'isnot': 2640, 'ishould': 2639, 'ish': 2638, 'isbroken': 2637, 'is': 2636, 'iruku': 2635, 'irritating': 2634, 'irrit': 2633, 'irrig': 2632, 'irret': 2631, 'irrespons': 2630, 'irrespect': 2629, 'irrelev': 2628, 'ironbox': 2627, 'iron': 2626, 'ir': 2625, 'ipod': 2624, 'iplanet': 2623, 'iphone': 2622, 'iphon': 2621, 'ipad': 2620, 'ip': 2619, 'ion': 2618, 'io': 2617, 'involv': 2616, 'invo': 2615, 'investig': 2614, 'invest': 2613, 'invalu': 2612, 'invalid': 2611, 'intrest': 2610, 'intim': 2609, 'inth': 2608, 'intex': 2607, 'interv': 2606, 'interst': 2605, 'interrog': 2604, 'internetmobile': 2603, 'internet': 2602, 'internel': 2601, 'intern': 2600, 'intermittently': 2599, 'intermit': 2598, 'intermedy': 2597, 'interfac': 2596, 'interest': 2595, 'interact': 2594, 'intend': 2593, 'integr': 2592, 'intead': 2591, 'int': 2590, 'insufficy': 2589, 'instruct': 2588, 'instru': 2587, 'institut': 2586, 'instil': 2585, 'instead': 2584, 'installed': 2583, 'instal': 2582, 'instagram': 2581, 'inst': 2580, 'inspit': 2579, 'inspect': 2578, 'insist': 2577, 'inside': 2576, 'insid': 2575, 'insert': 2574, 'inscreen': 2573, 'ins': 2572, 'inrrit': 2571, 'inr': 2570, 'input': 2569, 'inpir': 2568, 'innov': 2567, 'inn': 2566, 'inkjet': 2565, 'ink': 2564, 'injury': 2563, 'inject': 2562, 'init': 2561, 'inh': 2560, 'ingin': 2559, 'ing': 2558, 'infrequ': 2557, 'inform': 2556, 'info': 2555, 'infl': 2554, 'infinix': 2553, 'infinit': 2552, 'infin': 2551, 'infery': 2550, 'inferno': 2549, 'infact': 2548, 'industry': 2547, 'indo': 2546, 'indirectky': 2545, 'indiflashmart': 2544, 'indicom': 2543, 'india': 2542, 'indee': 2541, 'ind': 2540, 'incred': 2539, 'increase': 2538, 'increas': 2537, 'incorrect': 2536, 'inconveny': 2535, 'inconsist': 2534, 'incomplet': 2533, 'incompat': 2532, 'incom': 2531, 'includ': 2530, 'incid': 2529, 'inch': 2528, 'inbuilt': 2527, 'inapt': 2526, 'inactive': 2525, 'inact': 2524, 'inacc': 2523, 'in': 2522, 'improvementsvery': 2521, 'improvedwriting': 2520, 'improv': 2519, 'improp': 2518, 'impression': 2517, 'impress': 2516, 'impossbl': 2515, 'imposs': 2514, 'import': 2513, 'impex': 2512, 'imperfect': 2511, 'impact': 2510, 'imp': 2509, 'immedy': 2508, 'imho': 2507, 'img': 2506, 'imei': 2505, 'ime': 2504, 'imbaras': 2503, 'imagin': 2502, 'images': 2501, 'image': 2500, 'im': 2499, 'illit': 2498, 'illeg': 2497, 'ill': 2496, 'il': 2495, 'ikil': 2494, 'ikal': 2493, 'ik': 2492, 'iin': 2491, 'ii': 2490, 'ign': 2489, 'if': 2488, 'ie': 2487, 'ido': 2486, 'idl': 2485, 'idk': 2484, 'idjet': 2483, 'idiot': 2482, 'idhu': 2481, 'idh': 2480, 'ident': 2479, 'idel': 2478, 'ide': 2477, 'id': 2476, 'icu': 2475, 'iconsfeatures': 2474, 'icon': 2473, 'ic': 2472, 'ibal': 2471, 'iam': 2470, 'ia': 2469, 'hz': 2468, 'hype': 2467, 'hyp': 2466, 'hyderbad': 2465, 'hyderabad': 2464, 'hyd': 2463, 'hybrid': 2462, 'hve': 2461, 'hv': 2460, 'huy': 2459, 'huwa': 2458, 'hurting': 2457, 'hurt': 2456, 'hung': 2455, 'hundr': 2454, 'humbl': 2453, 'hum': 2452, 'hug': 2451, 'huax': 2450, 'huawe': 2449, 'hua': 2448, 'hu': 2447, 'http': 2446, 'ht': 2445, 'hrs': 2444, 'hroften': 2443, 'hr': 2442, 'hq': 2441, 'hpvery': 2440, 'hpu': 2439, 'hpinstead': 2438, 'hpfirst': 2437, 'hp': 2436, 'howev': 2435, 'how': 2434, 'hous': 2433, 'hoursdo': 2432, 'hours': 2431, 'houri': 2430, 'houre': 2429, 'hour': 2428, 'hou': 2427, 'hotst': 2426, 'hotspot': 2425, 'hot': 2424, 'horrr': 2423, 'horriblydont': 2422, 'horriblecamera': 2421, 'horrible': 2420, 'horrend': 2419, 'horr': 2418, 'horn': 2417, 'horizont': 2416, 'hor': 2415, 'hoppup': 2414, 'hopless': 2413, 'hopeless': 2412, 'hop': 2411, 'hooverb': 2410, 'hoom': 2409, 'hook': 2408, 'hood': 2407, 'hono': 2406, 'honeymoon': 2405, 'honesty': 2404, 'honest': 2403, 'hon': 2402, 'homeyou': 2401, 'homework': 2400, 'hometown': 2399, 'hometh': 2398, 'homet': 2397, 'homeshop': 2396, 'homescreen': 2395, 'hom': 2394, 'holiday': 2393, 'hold': 2392, 'hol': 2391, 'hog': 2390, 'hod': 2389, 'ho': 2388, 'hmm': 2387, 'hll': 2386, 'hitafter': 2385, 'hit': 2384, 'hist': 2383, 'hir': 2382, 'hing': 2381, 'hind': 2380, 'hight': 2379, 'highly': 2378, 'highlight': 2377, 'highest': 2376, 'highend': 2375, 'high': 2374, 'hig': 2373, 'hierarchy': 2372, 'hid': 2371, 'hiccup': 2370, 'hi': 2369, 'hhav': 2368, 'hey': 2367, 'hevy': 2366, 'hetset': 2365, 'het': 2364, 'hesit': 2363, 'herepoor': 2362, 'hereby': 2361, 'hereaft': 2360, 'hep': 2359, 'hent': 2358, 'heng': 2357, 'hence': 2356, 'helplin': 2355, 'helpless': 2354, 'help': 2353, 'helo': 2352, 'helmet': 2351, 'hello': 2350, 'hell': 2349, 'helio': 2348, 'held': 2347, 'hel': 2346, 'height': 2345, 'heigh': 2344, 'hefty': 2343, 'heet': 2342, 'hedohin': 2341, 'heavy': 2340, 'heatsup': 2339, 'heats': 2338, 'heatingproblem': 2337, 'heating': 2336, 'heath': 2335, 'heated': 2334, 'heat': 2333, 'heaset': 2332, 'heartedbut': 2331, 'heart': 2330, 'hearing': 2329, 'heard': 2328, 'hear': 2327, 'heaphon': 2326, 'health': 2325, 'heal': 2324, 'headset': 2323, 'heads': 2322, 'headproduct': 2321, 'headphonetested': 2320, 'headphones': 2319, 'headphonecamera': 2318, 'headphon': 2317, 'headphn': 2316, 'headfon': 2315, 'headach': 2314, 'head': 2313, 'he': 2312, 'hdrextreme': 2311, 'hdr': 2310, 'hdmi': 2309, 'hdextreme': 2308, 'hdd': 2307, 'hd': 2306, 'hb': 2305, 'hazy': 2304, 'haz': 2303, 'hay': 2302, 'havr': 2301, 'havey': 2300, 'havethis': 2299, 'hav': 2298, 'haung': 2297, 'haul': 2296, 'hat': 2295, 'hasnt': 2294, 'has': 2293, 'harsh': 2292, 'hars': 2291, 'harrass': 2290, 'harras': 2289, 'harm': 2288, 'hardwork': 2287, 'hardware': 2286, 'hardw': 2285, 'hardisk': 2284, 'hardest': 2283, 'hardearn': 2282, 'hard': 2281, 'harass': 2280, 'hapt': 2279, 'happy': 2278, 'happened': 2277, 'happend': 2276, 'hap': 2275, 'hank': 2274, 'hangup': 2273, 'hangs': 2272, 'hangout': 2271, 'hangingslow': 2270, 'hanging': 2269, 'hangabl': 2268, 'hang': 2267, 'handybody': 2266, 'handy': 2265, 'handset': 2264, 'handl': 2263, 'handel': 2262, 'handed': 2261, 'hand': 2260, 'hamp': 2259, 'halp': 2258, 'halo': 2257, 'hallmark': 2256, 'half': 2255, 'hair': 2254, 'hain': 2253, 'hailpm': 2252, 'hai': 2251, 'hahah': 2250, 'hag': 2249, 'hadphon': 2248, 'had': 2247, 'habit': 2246, 'ha': 2245, 'gz': 2244, 'gyu': 2243, 'gyroscop': 2242, 'gyro': 2241, 'gym': 2240, 'gwk': 2239, 'gv': 2238, 'guyss': 2237, 'guys': 2236, 'guy': 2235, 'gut': 2234, 'gusset': 2233, 'gurr': 2232, 'gurgaon': 2231, 'gur': 2230, 'gul': 2229, 'guil': 2228, 'guid': 2227, 'guest': 2226, 'guess': 2225, 'gud': 2224, 'guardtamper': 2223, 'guard': 2222, 'guarantee': 2221, 'guar': 2220, 'gual': 2219, 'gua': 2218, 'gts': 2217, 'gtr': 2216, 'gta': 2215, 'gt': 2214, 'gst': 2213, 'gsensor': 2212, 'group': 2211, 'ground': 2210, 'grip': 2209, 'gril': 2208, 'griev': 2207, 'grief': 2206, 'grey': 2205, 'green': 2204, 'greatdisplay': 2203, 'great': 2202, 'greas': 2201, 'gre': 2200, 'gray': 2199, 'graphicyou': 2198, 'graph': 2197, 'grandmoth': 2196, 'grandm': 2195, 'grandfath': 2194, 'grand': 2193, 'grams': 2192, 'gram': 2191, 'grahgooodsretail': 2190, 'grafix': 2189, 'graf': 2188, 'grad': 2187, 'gps': 2186, 'gprs': 2185, 'gpay': 2184, 'gp': 2183, 'govern': 2182, 'gov': 2181, 'got': 2180, 'gos': 2179, 'gorril': 2178, 'gorill': 2177, 'gorg': 2176, 'gor': 2175, 'gopal': 2174, 'goood': 2173, 'google': 2172, 'googl': 2171, 'goof': 2170, 'goody': 2169, 'goodwil': 2168, 'goodvery': 2167, 'goodtotally': 2166, 'goodto': 2165, 'goodsnapdragon': 2164, 'goodpower': 2163, 'goodpoor': 2162, 'goodno': 2161, 'goodloudspeaker': 2160, 'goodits': 2159, 'goodit': 2158, 'goodi': 2157, 'goodby': 2156, 'goodbut': 2155, 'goodbattery': 2154, 'goodbad': 2153, 'goodaccept': 2152, 'good': 2151, 'goo': 2150, 'gon': 2149, 'gold': 2148, 'goiung': 2147, 'going': 2146, 'goid': 2145, 'goi': 2144, 'goforikall': 2143, 'goe': 2142, 'god': 2141, 'gobut': 2140, 'gobbl': 2139, 'goat': 2138, 'go': 2137, 'gmail': 2136, 'gm': 2135, 'glow': 2134, 'glitches': 2133, 'glitch': 2132, 'glassy': 2131, 'glass': 2130, 'glar': 2129, 'glant': 2128, 'givit': 2127, 'givin': 2126, 'given': 2125, 'giv': 2124, 'girst': 2123, 'girritated': 2122, 'girl': 2121, 'gion': 2120, 'gimmicky': 2119, 'gimmick': 2118, 'gimb': 2117, 'gift': 2116, 'ghz': 2115, 'ghost': 2114, 'ghirrrrrr': 2113, 'ghatiy': 2112, 'ghat': 2111, 'getup': 2110, 'getting': 2109, 'get': 2108, 'gest': 2107, 'genuin': 2106, 'genu': 2105, 'gentl': 2104, 'geniun': 2103, 'geninu': 2102, 'genaret': 2101, 'gen': 2100, 'geetmal': 2099, 'gear': 2098, 'ge': 2097, 'gd': 2096, 'gbps': 2095, 'gb': 2094, 'gay': 2093, 'gav': 2092, 'gaurrenty': 2091, 'gaurd': 2090, 'gatiy': 2089, 'gat': 2088, 'garb': 2087, 'gap': 2086, 'gamil': 2085, 'games': 2084, 'gameplay': 2083, 'game': 2082, 'gambl': 2081, 'gam': 2080, 'galw': 2079, 'galt': 2078, 'galley': 2077, 'gallery': 2076, 'galaxy': 2075, 'gal': 2074, 'gajs': 2073, 'gain': 2072, 'gadget': 2071, 'fyi': 2070, 'fut': 2069, 'fussu': 2068, 'furtherm': 2067, 'furst': 2066, 'fuock': 2065, 'funtouch': 2064, 'funny': 2063, 'fung': 2062, 'fund': 2061, 'functionality': 2060, 'funct': 2059, 'fulldid': 2058, 'full': 2057, 'fulfil': 2056, 'ful': 2055, 'fujifilm': 2054, 'fuj': 2053, 'fuel': 2052, 'fudu': 2051, 'fuddu': 2050, 'fuct': 2049, 'fuckkkk': 2048, 'fuch': 2047, 'ft': 2046, 'frzzi': 2045, 'frustrating': 2044, 'frustratedpoor': 2043, 'frust': 2042, 'frud': 2041, 'frst': 2040, 'froz': 2039, 'frourd': 2038, 'froud': 2037, 'front': 2036, 'froducut': 2035, 'frod': 2034, 'froad': 2033, 'frnds': 2032, 'frnd': 2031, 'frm': 2030, 'frji': 2029, 'frist': 2028, 'frind': 2027, 'friendnot': 2026, 'friendly': 2025, 'friend': 2024, 'frezz': 2023, 'freud': 2022, 'fresh': 2021, 'frequentlydont': 2020, 'frequ': 2019, 'freindss': 2018, 'freez': 2017, 'freefir': 2016, 'fre': 2015, 'frds': 2014, 'fraud': 2013, 'frank': 2012, 'fram': 2011, 'fragile': 2010, 'fragil': 2009, 'fr': 2008, 'fps': 2007, 'foward': 2006, 'four': 2005, 'found': 2004, 'foul': 2003, 'forward': 2002, 'forum': 2001, 'forty': 2000, 'fortun': 1999, 'forst': 1998, 'form': 1997, 'forgot': 1996, 'forget': 1995, 'forgery': 1994, 'forev': 1993, 'ford': 1992, 'forc': 1991, 'forbad': 1990, 'for': 1989, 'footstep': 1988, 'foothpa': 1987, 'footfallpresence': 1986, 'foot': 1985, 'foolisg': 1984, 'fool': 1983, 'font': 1982, 'fond': 1981, 'fon': 1980, 'fom': 1979, 'followup': 1978, 'follow': 1977, 'folk': 1976, 'fold': 1975, 'fol': 1974, 'foggy': 1973, 'fof': 1972, 'foe': 1971, 'focus': 1970, 'foc': 1969, 'foam': 1968, 'fo': 1967, 'fnd': 1966, 'fm': 1965, 'flybird': 1964, 'flust': 1963, 'flupkart': 1962, 'fluctu': 1961, 'flu': 1960, 'flown': 1959, 'flopkart': 1958, 'flop': 1957, 'flo': 1956, 'flixcart': 1955, 'flix': 1954, 'flitkart': 1953, 'flipside': 1952, 'flipshit': 1951, 'flipkrt': 1950, 'flipkartwhen': 1949, 'flipkartwaste': 1948, 'flipkartthey': 1947, 'flipkartso': 1946, 'flipkartsecond': 1945, 'flipkartflipkart': 1944, 'flipkartdefect': 1943, 'flipkartbattery': 1942, 'flipkartbass': 1941, 'flipkartas': 1940, 'flipkartaftr': 1939, 'flipkart': 1938, 'flipk': 1937, 'flipcsrt': 1936, 'flipcort': 1935, 'flipcart': 1934, 'flipcard': 1933, 'flipc': 1932, 'flip': 1931, 'flimsy': 1930, 'flik': 1929, 'flight': 1928, 'flifkart': 1927, 'flifcart': 1926, 'flickering': 1925, 'flickart': 1924, 'flick': 1923, 'flibkart': 1922, 'flex': 1921, 'fleec': 1920, 'fle': 1919, 'flaw': 1918, 'flatron': 1917, 'flat': 1916, 'flashlight': 1915, 'flash': 1914, 'flap': 1913, 'flam': 1912, 'flag': 1911, 'fkart': 1910, 'fixt': 1909, 'fixed': 1908, 'fix': 1907, 'fiv': 1906, 'fitpro': 1905, 'fitbit': 1904, 'fit': 1903, 'firtkart': 1902, 'first': 1901, 'firmwir': 1900, 'fir': 1899, 'fipkart': 1898, 'fip': 1897, 'finserv': 1896, 'finna': 1895, 'fingerprint': 1894, 'fing': 1893, 'finetoo': 1892, 'find': 1891, 'fina': 1890, 'fin': 1889, 'filpkart': 1888, 'filpcart': 1887, 'filp': 1886, 'filmsy': 1885, 'film': 1884, 'filkart': 1883, 'filipkart': 1882, 'filipcord': 1881, 'filipcart': 1880, 'filip': 1879, 'filap': 1878, 'fil': 1877, 'fiit': 1876, 'fight': 1875, 'figerprint': 1874, 'fig': 1873, 'field': 1872, 'fib': 1871, 'fi': 1870, 'fhic': 1869, 'fhd': 1868, 'few': 1867, 'fevikwik': 1866, 'fev': 1865, 'fest': 1864, 'fes': 1863, 'ferform': 1862, 'fem': 1861, 'felt': 1860, 'fellow': 1859, 'fella': 1858, 'fel': 1857, 'feet': 1856, 'feel': 1855, 'feedback': 1854, 'fee': 1853, 'fedup': 1852, 'fed': 1851, 'feck': 1850, 'febru': 1849, 'feb': 1848, 'featuresin': 1847, 'features': 1846, 'featureless': 1845, 'feature': 1844, 'feath': 1843, 'feat': 1842, 'feas': 1841, 'feach': 1840, 'fe': 1839, 'fb': 1838, 'favo': 1837, 'faultyafter': 1836, 'faulty': 1835, 'fault': 1834, 'faul': 1833, 'fau': 1832, 'fath': 1831, 'fat': 1830, 'fastly': 1829, 'fastest': 1828, 'fast': 1827, 'fass': 1826, 'fasl': 1825, 'far': 1824, 'fantasy': 1823, 'fantast': 1822, 'fant': 1821, 'fan': 1820, 'famy': 1819, 'family': 1818, 'famili': 1817, 'fam': 1816, 'falul': 1815, 'faltu': 1814, 'falt': 1813, 'fals': 1812, 'falldown': 1811, 'fal': 1810, 'fak': 1809, 'faj': 1808, 'faith': 1807, 'fair': 1806, 'faint': 1805, 'failureyou': 1804, 'failurerectification': 1803, 'failurefluctuations': 1802, 'fail': 1801, 'fai': 1800, 'fad': 1799, 'factor': 1798, 'fact': 1797, 'fack': 1796, 'facilitynot': 1795, 'facility': 1794, 'facil': 1793, 'facebook': 1792, 'fac': 1791, 'fabr': 1790, 'fab': 1789, 'fa': 1788, 'ezy': 1787, 'eyesight': 1786, 'ey': 1785, 'exxpery': 1784, 'extremely': 1783, 'extrem': 1782, 'extraordin': 1781, 'extr': 1780, 'extern': 1779, 'extend': 1778, 'express': 1777, 'expos': 1776, 'expon': 1775, 'explod': 1774, 'explain': 1773, 'expl': 1772, 'expired': 1771, 'expir': 1770, 'expery': 1769, 'expertplz': 1768, 'expert': 1767, 'experienceno': 1766, 'experienceits': 1765, 'experiencei': 1764, 'experiencebattery': 1763, 'experience': 1762, 'expens': 1761, 'expend': 1760, 'expectedthe': 1759, 'expectedbig': 1758, 'expected': 1757, 'expect': 1756, 'expec': 1755, 'expand': 1754, 'expair': 1753, 'exp': 1752, 'exit': 1751, 'exist': 1750, 'exhaust': 1749, 'exerc': 1748, 'exeperint': 1747, 'execut': 1746, 'excus': 1745, 'exclam': 1744, 'excit': 1743, 'exchang': 1742, 'exch': 1741, 'excess': 1740, 'exceptional': 1739, 'excel': 1738, 'exceiv': 1737, 'exc': 1736, 'exampl': 1735, 'examin': 1734, 'exact': 1733, 'ex': 1732, 'ewast': 1731, 'evrytim': 1730, 'evryday': 1729, 'evr': 1728, 'evolv': 1727, 'evok': 1726, 'evn': 1725, 'evid': 1724, 'everywh': 1723, 'everytime': 1722, 'everytim': 1721, 'everyth': 1720, 'everyon': 1719, 'everyday': 1718, 'everybody': 1717, 'every': 1716, 'eversince': 1715, 'everseen': 1714, 'everplease': 1713, 'everpart': 1712, 'everno': 1711, 'everaft': 1710, 'ever': 1709, 'eventhough': 1708, 'even': 1707, 'ev': 1706, 'ethern': 1705, 'eth': 1704, 'etcis': 1703, 'etcget': 1702, 'etc': 1701, 'estim': 1700, 'est': 1699, 'essu': 1698, 'espect': 1697, 'espec': 1696, 'esk': 1695, 'esc': 1694, 'errorit': 1693, 'error': 1692, 'eretet': 1691, 'eras': 1690, 'er': 1689, 'equip': 1688, 'equ': 1687, 'eq': 1686, 'epson': 1685, 'epic': 1684, 'epair': 1683, 'eos': 1682, 'eo': 1681, 'enyon': 1680, 'environ': 1679, 'entry': 1678, 'entir': 1677, 'entertain': 1676, 'ent': 1675, 'ens': 1674, 'enquiry': 1673, 'enoughi': 1672, 'enough': 1671, 'enlarg': 1670, 'enjoy': 1669, 'enh': 1668, 'engry': 1667, 'engin': 1666, 'eng': 1665, 'energy': 1664, 'energetic': 1663, 'enemy': 1662, 'endup': 1661, 'end': 1660, 'encount': 1659, 'enco': 1658, 'encash': 1657, 'en': 1656, 'emtyfull': 1655, 'empty': 1654, 'employ': 1653, 'emph': 1652, 'emot': 1651, 'emmideat': 1650, 'emerg': 1649, 'embed': 1648, 'embarrass': 1647, 'embarass': 1646, 'email': 1645, 'em': 1644, 'elsewh': 1643, 'else': 1642, 'els': 1641, 'elong': 1640, 'ellay': 1639, 'elig': 1638, 'elevn': 1637, 'eleph': 1636, 'electron': 1635, 'elect': 1634, 'elaps': 1633, 'el': 1632, 'ektamob': 1631, 'ekdm': 1630, 'ekart': 1629, 'ek': 1628, 'eject': 1627, 'eith': 1626, 'egpubg': 1625, 'eg': 1624, 'effort': 1623, 'efford': 1622, 'efficy': 1621, 'efficientit': 1620, 'effect': 1619, 'educ': 1618, 'edit': 1617, 'edge': 1616, 'edg': 1615, 'ed': 1614, 'ect': 1613, 'ecosystem': 1612, 'econom': 1611, 'ecommerc': 1610, 'ecomm': 1609, 'ecom': 1608, 'eco': 1607, 'echo': 1606, 'ecg': 1605, 'eat': 1604, 'easy': 1603, 'east': 1602, 'easily': 1601, 'eas': 1600, 'earpod': 1599, 'earpiece': 1598, 'earpiec': 1597, 'earphon': 1596, 'earn': 1595, 'earliest': 1594, 'earfon': 1593, 'earbut': 1592, 'earbudno': 1591, 'earbud': 1590, 'earbird': 1589, 'ear': 1588, 'eag': 1587, 'each': 1586, 'dyames': 1585, 'dya': 1584, 'dxomark': 1583, 'dvh': 1582, 'dvd': 1581, 'duty': 1580, 'dut': 1579, 'dustsound': 1578, 'dustbin': 1577, 'dust': 1576, 'dusky': 1575, 'durin': 1574, 'dur': 1573, 'duply': 1572, 'duplicatether': 1571, 'duplex': 1570, 'dup': 1569, 'duopod': 1568, 'duo': 1567, 'duniy': 1566, 'dump': 1565, 'dummy': 1564, 'dumb': 1563, 'dul': 1562, 'dug': 1561, 'due': 1560, 'dubl': 1559, 'dubar': 1558, 'dubalicet': 1557, 'duba': 1556, 'dual': 1555, 'dtr': 1554, 'dth': 1553, 'dslr': 1552, 'dselivery': 1551, 'ds': 1550, 'dry': 1549, 'drum': 1548, 'drop': 1547, 'drivel': 1546, 'driv': 1545, 'drink': 1544, 'dril': 1543, 'dri': 1542, 'dren': 1541, 'dream': 1540, 'drawback': 1539, 'draw': 1538, 'drastically': 1537, 'dran': 1536, 'dram': 1535, 'drain': 1534, 'drag': 1533, 'downsid': 1532, 'downlod': 1531, 'downloadedgets': 1530, 'download': 1529, 'down': 1528, 'doubt': 1527, 'doubl': 1526, 'doubbl': 1525, 'dotn': 1524, 'dot': 1523, 'dosenot': 1522, 'dos': 1521, 'dop': 1520, 'door': 1519, 'dontknow': 1518, 'dont': 1517, 'donot': 1516, 'donon': 1515, 'donno': 1514, 'dond': 1513, 'don': 1512, 'dolby': 1511, 'doffr': 1510, 'doesy': 1509, 'doest': 1508, 'doesnt': 1507, 'doesnot': 1506, 'does': 1505, 'doenst': 1504, 'docx': 1503, 'docu': 1502, 'doct': 1501, 'doc': 1500, 'do': 1499, 'dnt': 1498, 'dnot': 1497, 'dnd': 1496, 'dn': 1495, 'dm': 1494, 'dj': 1493, 'dizo': 1492, 'diy': 1491, 'diwal': 1490, 'divid': 1489, 'diva': 1488, 'div': 1487, 'disturb': 1486, 'distrub': 1485, 'distroy': 1484, 'distribut': 1483, 'distortionmuffled': 1482, 'distort': 1481, 'distinct': 1480, 'dist': 1479, 'dissatisfy': 1478, 'dissatisfied': 1477, 'dissapoint': 1476, 'dissapear': 1475, 'disrupt': 1474, 'disput': 1473, 'dispos': 1472, 'dispointee': 1471, 'dispointed': 1470, 'dispoint': 1469, 'displqy': 1468, 'displayi': 1467, 'display': 1466, 'displ': 1465, 'dispatch': 1464, 'disoppoint': 1463, 'disolay': 1462, 'disney': 1461, 'dislik': 1460, 'disk': 1459, 'disipoint': 1458, 'disgusting': 1457, 'disgust': 1456, 'disgu': 1455, 'discuss': 1454, 'discrpt': 1453, 'discrit': 1452, 'discrib': 1451, 'discov': 1450, 'discount': 1449, 'discontinu': 1448, 'disconnected': 1447, 'disconnect': 1446, 'discomfort': 1445, 'discol': 1444, 'disclos': 1443, 'discharg': 1442, 'disc': 1441, 'disastour': 1440, 'disast': 1439, 'disappointment': 1438, 'disappointedi': 1437, 'disappointedcamera': 1436, 'disappointed': 1435, 'disappoint': 1434, 'disappoin': 1433, 'disappo': 1432, 'disappear': 1431, 'disapont': 1430, 'disapoint': 1429, 'disadvantage': 1428, 'disadv': 1427, 'dis': 1426, 'dirty': 1425, 'dirt': 1424, 'direct': 1423, 'dippend': 1422, 'diplay': 1421, 'dip': 1420, 'dint': 1419, 'din': 1418, 'dimin': 1417, 'dimens': 1416, 'dim': 1415, 'dilut': 1414, 'dilevery': 1413, 'dil': 1412, 'digitek': 1411, 'digitech': 1410, 'digit': 1409, 'digiatl': 1408, 'diffr': 1407, 'difficult': 1406, 'difficul': 1405, 'different': 1404, 'diffect': 1403, 'diff': 1402, 'difect': 1401, 'died': 1400, 'die': 1399, 'didt': 1398, 'didnt': 1397, 'didnot': 1396, 'didint': 1395, 'did': 1394, 'diary': 1393, 'dial': 1392, 'di': 1391, 'dhun': 1390, 'dhokh': 1389, 'dh': 1388, 'deyat': 1387, 'devilery': 1386, 'devid': 1385, 'devices': 1384, 'deviceand': 1383, 'device': 1382, 'devevery': 1381, 'develop': 1380, 'dev': 1379, 'detected': 1378, 'detect': 1377, 'detail': 1376, 'detach': 1375, 'destry': 1374, 'destroy': 1373, 'destin': 1372, 'desplay': 1371, 'despit': 1370, 'desktop': 1369, 'desk': 1368, 'desist': 1367, 'desir': 1366, 'designear': 1365, 'designbut': 1364, 'design': 1363, 'deserv': 1362, 'desert': 1361, 'description': 1360, 'describ': 1359, 'des': 1358, 'depress': 1357, 'depict': 1356, 'dep': 1355, 'deny': 1354, 'dent': 1353, 'den': 1352, 'demo': 1351, 'demes': 1350, 'demerit': 1349, 'demand': 1348, 'dem': 1347, 'delyvery': 1346, 'delv': 1345, 'delux': 1344, 'dell': 1343, 'delivery': 1342, 'deliveree': 1341, 'deliverd': 1340, 'delisted': 1339, 'delicatedont': 1338, 'delh': 1337, 'deleverd': 1336, 'delev': 1335, 'delet': 1334, 'delec': 1333, 'delbert': 1332, 'delayard': 1331, 'delay': 1330, 'del': 1329, 'deiv': 1328, 'deity': 1327, 'deilv': 1326, 'degrees': 1325, 'degrad': 1324, 'degr': 1323, 'deg': 1322, 'definit': 1321, 'defin': 1320, 'deficult': 1319, 'defict': 1318, 'deffect': 1317, 'deff': 1316, 'defend': 1315, 'defectsso': 1314, 'defects': 1313, 'defect': 1312, 'default': 1311, 'def': 1310, 'deesid': 1309, 'deeply': 1308, 'deepal': 1307, 'deep': 1306, 'deenn': 1305, 'deduc': 1304, 'ded': 1303, 'decreas': 1302, 'decr': 1301, 'declin': 1300, 'decl': 1299, 'decision': 1298, 'decid': 1297, 'decemb': 1296, 'deceiv': 1295, 'decad': 1294, 'dec': 1293, 'dear': 1292, 'dealt': 1291, 'deal': 1290, 'deadlin': 1289, 'dead': 1288, 'dea': 1287, 'de': 1286, 'dc': 1285, 'dbly': 1284, 'dayspl': 1283, 'days': 1282, 'daylight': 1281, 'dayd': 1280, 'day': 1279, 'daught': 1278, 'datedo': 1277, 'datawind': 1276, 'dat': 1275, 'dart': 1274, 'darl': 1273, 'dark': 1272, 'darin': 1271, 'dar': 1270, 'dang': 1269, 'damn': 1268, 'dammy': 1267, 'damin': 1266, 'damg': 1265, 'damez': 1264, 'dameg': 1263, 'damagedmost': 1262, 'damage': 1261, 'damagd': 1260, 'dam': 1259, 'daim': 1258, 'dail': 1257, 'dai': 1256, 'dad': 1255, 'dabb': 1254, 'dab': 1253, 'da': 1252, 'cz': 1251, 'cymer': 1250, 'cyc': 1249, 'cyb': 1248, 'cwolotiy': 1247, 'cutsmissing': 1246, 'cutom': 1245, 'cut': 1244, 'customerworst': 1243, 'customers': 1242, 'customercentricity': 1241, 'customerc': 1240, 'customeraft': 1239, 'custom': 1238, 'custm': 1237, 'custam': 1236, 'cush': 1235, 'curv': 1234, 'curtsy': 1233, 'curs': 1232, 'curroupt': 1231, 'curd': 1230, 'cur': 1229, 'cup': 1228, 'cumbersom': 1227, 'cthunderbolt': 1226, 'cryst': 1225, 'cry': 1224, 'crumpl': 1223, 'cru': 1222, 'crrt': 1221, 'crown': 1220, 'crowd': 1219, 'cross': 1218, 'crop': 1217, 'crombook': 1216, 'crisp': 1215, 'crest': 1214, 'creeky': 1213, 'creative': 1212, 'creamy': 1211, 'creak': 1210, 'cre': 1209, 'crazy': 1208, 'crat': 1207, 'crashed': 1206, 'crash': 1205, 'crappy': 1204, 'crap': 1203, 'cramer': 1202, 'crackl': 1201, 'cracked': 1200, 'crack': 1199, 'cpu': 1198, 'cph': 1197, 'coz': 1196, 'cowalid': 1195, 'covid': 1194, 'coverg': 1193, 'covered': 1192, 'cov': 1191, 'coustom': 1190, 'coustm': 1189, 'coury': 1188, 'court': 1187, 'cours': 1186, 'coupon': 1185, 'coupl': 1184, 'country': 1183, 'countin': 1182, 'count': 1181, 'couldnt': 1180, 'could': 1179, 'coul': 1178, 'couid': 1177, 'cought': 1176, 'cou': 1175, 'costum': 1174, 'costly': 1173, 'costliest': 1172, 'cost': 1171, 'corrupt': 1170, 'correspond': 1169, 'correctly': 1168, 'correct': 1167, 'corp': 1166, 'coron': 1165, 'corner': 1164, 'corn': 1163, 'coriyr': 1162, 'coreect': 1161, 'cord': 1160, 'cor': 1159, 'coppurt': 1158, 'cop': 1157, 'coordin': 1156, 'coolpad': 1155, 'coolest': 1154, 'cool': 1153, 'cooky': 1152, 'convint': 1151, 'convert': 1150, 'convers': 1149, 'conveny': 1148, 'controlso': 1147, 'control': 1146, 'contrast': 1145, 'contraryu': 1144, 'contrapt': 1143, 'contract': 1142, 'contol': 1141, 'continuously': 1140, 'continuesley': 1139, 'continues': 1138, 'continueos': 1137, 'continu': 1136, 'contin': 1135, 'contest': 1134, 'contemp': 1133, 'contect': 1132, 'contain': 1131, 'contactact': 1130, 'contact': 1129, 'cont': 1128, 'consumptionbattery': 1127, 'consum': 1126, 'consult': 1125, 'constrain': 1124, 'constantly': 1123, 'const': 1122, 'consist': 1121, 'consid': 1120, 'cons': 1119, 'conny': 1118, 'connext': 1117, 'connet': 1116, 'connectv': 1115, 'connectivity': 1114, 'connection': 1113, 'connectingif': 1112, 'connect': 1111, 'conmect': 1110, 'conk': 1109, 'confus': 1108, 'conform': 1107, 'confirm': 1106, 'config': 1105, 'conf': 1104, 'conect': 1103, 'condition': 1102, 'condit': 1101, 'condison': 1100, 'condid': 1099, 'conclud': 1098, 'concern': 1097, 'con': 1096, 'comput': 1095, 'compuls': 1094, 'comprom': 1093, 'compress': 1092, 'comport': 1091, 'compon': 1090, 'comply': 1089, 'complint': 1088, 'compliantalso': 1087, 'complet': 1086, 'complay': 1085, 'complaint': 1084, 'complain': 1083, 'compl': 1082, 'competit': 1081, 'competet': 1080, 'compet': 1079, 'compens': 1078, 'compel': 1077, 'compat': 1076, 'compass': 1075, 'compart': 1074, 'comparison': 1073, 'company': 1072, 'compair': 1071, 'compaint': 1070, 'compact': 1069, 'comp': 1068, 'commun': 1067, 'common': 1066, 'commod': 1065, 'commit': 1064, 'commes': 1063, 'command': 1062, 'coming': 1061, 'comfort': 1060, 'comer': 1059, 'come': 1058, 'combo': 1057, 'comblint': 1056, 'combin': 1055, 'combany': 1054, 'comb': 1053, 'comapr': 1052, 'comany': 1051, 'com': 1050, 'colourful': 1049, 'coloured': 1048, 'colorless': 1047, 'colorfit': 1046, 'color': 1045, 'colo': 1044, 'collect': 1043, 'colleagu': 1042, 'collaps': 1041, 'collab': 1040, 'coll': 1039, 'coley': 1038, 'coletey': 1037, 'colet': 1036, 'cold': 1035, 'col': 1034, 'coincid': 1033, 'coimb': 1032, 'codmobl': 1031, 'cod': 1030, 'coc': 1029, 'coast': 1028, 'co': 1027, 'cnt': 1026, 'cmpltly': 1025, 'cme': 1024, 'cmaer': 1023, 'cm': 1022, 'clut': 1021, 'club': 1020, 'clu': 1019, 'cloudy': 1018, 'cloud': 1017, 'cloth': 1016, 'closs': 1015, 'closeth': 1014, 'closed': 1013, 'clos': 1012, 'clon': 1011, 'clog': 1010, 'clock': 1009, 'clo': 1008, 'clipwas': 1007, 'clipcomb': 1006, 'clip': 1005, 'clim': 1004, 'click': 1003, 'clearlt': 1002, 'clearlittle': 1001, 'clearityplz': 1000, 'cleareraudible': 999, 'clear': 998, 'cle': 997, 'classy': 996, 'classit': 995, 'classfront': 994, 'classes': 993, 'classand': 992, 'class': 991, 'clar': 990, 'clamp': 989, 'claim': 988, 'cityfy': 987, 'city': 986, 'cit': 985, 'circumst': 984, 'circuit': 983, 'circ': 982, 'ci': 981, 'chutiyapp': 980, 'chromebook': 979, 'chrome': 978, 'chroma': 977, 'chrge': 976, 'chos': 975, 'chor': 974, 'choos': 973, 'choice': 972, 'chocol': 971, 'cho': 970, 'chk': 969, 'chit': 968, 'chipset': 967, 'chip': 966, 'chines': 965, 'chin': 964, 'childr': 963, 'child': 962, 'chii': 961, 'chif': 960, 'chiens': 959, 'chi': 958, 'chet': 957, 'chess': 956, 'chep': 955, 'chenna': 954, 'chenag': 953, 'chen': 952, 'chef': 951, 'cheetingso': 950, 'cheet': 949, 'cheerio': 948, 'cheep': 947, 'cheeepest': 946, 'check': 945, 'cheapest': 944, 'cheapafter': 943, 'cheap': 942, 'che': 941, 'chattag': 940, 'chat': 939, 'chash': 938, 'chas': 937, 'chars': 936, 'charrg': 935, 'charm': 934, 'chargingthese': 933, 'chargingreally': 932, 'chargingit': 931, 'charging': 930, 'chargerpin': 929, 'charger': 928, 'charge': 927, 'charg': 926, 'char': 925, 'chant': 924, 'channel': 923, 'changedstill': 922, 'changedi': 921, 'chang': 920, 'chanel': 919, 'chand': 918, 'chalt': 917, 'challeng': 916, 'chalege': 915, 'chal': 914, 'chainy': 913, 'chain': 912, 'chag': 911, 'cha': 910, 'cf': 909, 'certain': 908, 'cert': 907, 'cer': 906, 'cepac': 905, 'century': 904, 'centreso': 903, 'centerpls': 902, 'cent': 901, 'cens': 900, 'cenaclet': 899, 'cemr': 898, 'cemer': 897, 'cemar': 896, 'celul': 895, 'celsi': 894, 'cellul': 893, 'cel': 892, 'ceas': 891, 'cd': 890, 'cctv': 889, 'ccpeople': 888, 'cce': 887, 'cb': 886, 'caus': 885, 'caught': 884, 'catrig': 883, 'catridg': 882, 'catreg': 881, 'categ': 880, 'catch': 879, 'cat': 878, 'cast': 877, 'cashback': 876, 'cash': 875, 'caseid': 874, 'case': 873, 'cas': 872, 'carva': 871, 'cartrig': 870, 'cartridgeyou': 869, 'cartridge': 868, 'cartridg': 867, 'carth': 866, 'carteg': 865, 'cart': 864, 'carryout': 863, 'carry': 862, 'carethis': 861, 'careless': 860, 'careful': 859, 'care': 858, 'cardio': 857, 'cardboard': 856, 'cardand': 855, 'card': 854, 'carava': 853, 'carav': 852, 'car': 851, 'capt': 850, 'cappas': 849, 'cappac': 848, 'capit': 847, 'capib': 846, 'capac': 845, 'cap': 844, 'canva': 843, 'cantact': 842, 'cant': 841, 'canon': 840, 'cannon': 839, 'canncel': 838, 'canectin': 837, 'canect': 836, 'candy': 835, 'canct': 834, 'cancel': 833, 'can': 832, 'camr': 831, 'campany': 830, 'cammr': 829, 'cammer': 828, 'camery': 827, 'cameravideo': 826, 'camerasdont': 825, 'cameras': 824, 'cameranot': 823, 'cameraeven': 822, 'cameraauto': 821, 'camera': 820, 'camer': 819, 'cambr': 818, 'cambl': 817, 'camar': 816, 'cam': 815, 'callsmessage': 814, 'calls': 813, 'callmic': 812, 'calling': 811, 'callibr': 810, 'callarm': 809, 'call': 808, 'calibr': 807, 'calc': 806, 'cal': 805, 'cadr': 804, 'cad': 803, 'cache': 802, 'cach': 801, 'cabl': 800, 'cabin': 799, 'ca': 798, 'byu': 797, 'byoth': 796, 'byjus': 795, 'byj': 794, 'bye': 793, 'bw': 792, 'buzz': 791, 'buyy': 790, 'buyworst': 789, 'buywaste': 788, 'buyplsi': 787, 'buying': 786, 'buyi': 785, 'buyback': 784, 'buyafter': 783, 'buy': 782, 'buttry': 781, 'button': 780, 'buttery': 779, 'buttan': 778, 'but': 777, 'busy': 776, 'bust': 775, 'bush': 774, 'bus': 773, 'burst': 772, 'burnt': 771, 'burned': 770, 'burn': 769, 'burk': 768, 'burd': 767, 'bur': 766, 'bundl': 765, 'bunch': 764, 'bump': 763, 'bult': 762, 'bulsit': 761, 'bulshit': 760, 'bullishit': 759, 'bullet': 758, 'bulky': 757, 'bulk': 756, 'bulg': 755, 'buletoo': 754, 'bul': 753, 'buit': 752, 'built': 751, 'build': 750, 'buggy': 749, 'bugglitchy': 748, 'buget': 747, 'bug': 746, 'buff': 745, 'buetoo': 744, 'budz': 743, 'budy': 742, 'budget': 741, 'buddy': 740, 'bud': 739, 'buck': 738, 'bubbles': 737, 'bubbl': 736, 'bub': 735, 'bu': 734, 'bty': 733, 'btw': 732, 'btry': 731, 'bt': 730, 'bsnl': 729, 'brut': 728, 'brows': 727, 'brought': 726, 'broth': 725, 'brokr': 724, 'brokeni': 723, 'broke': 722, 'brok': 721, 'brodcast': 720, 'brock': 719, 'broblem': 718, 'broadband': 717, 'bro': 716, 'brisk': 715, 'bring': 714, 'bril': 713, 'brightn': 712, 'bright': 711, 'brick': 710, 'bri': 709, 'brghtness': 708, 'brek': 707, 'breakk': 706, 'breakeg': 705, 'breakdown': 704, 'break': 703, 'brav': 702, 'brandsnot': 701, 'brands': 700, 'brandingnot': 699, 'brand': 698, 'brak': 697, 'bpm': 696, 'bp': 695, 'boz': 694, 'boycot': 693, 'boy': 692, 'boxdisgusting': 691, 'box': 690, 'boult': 689, 'bought': 688, 'bougheven': 687, 'botton': 686, 'bottom': 685, 'bottl': 684, 'both': 683, 'bot': 682, 'boss': 681, 'bos': 680, 'borth': 679, 'bork': 678, 'borest': 677, 'borderless': 676, 'bord': 675, 'bor': 674, 'bootingi': 673, 'booting': 672, 'boot': 671, 'boost': 670, 'boor': 669, 'boom': 668, 'booklet': 667, 'book': 666, 'boofr': 665, 'boof': 664, 'boo': 663, 'bolt': 662, 'bold': 661, 'bokk': 660, 'boggl': 659, 'boga': 658, 'bog': 657, 'body': 656, 'bocz': 655, 'boc': 654, 'boatrealmeoneplusoppo': 653, 'boat': 652, 'boast': 651, 'board': 650, 'boar': 649, 'boady': 648, 'boa': 647, 'bn': 646, 'bluzz': 645, 'blutoo': 644, 'bluthoot': 643, 'blurry': 642, 'blur': 641, 'bluetooth': 640, 'bluetoo': 639, 'bluedio': 638, 'blu': 637, 'blow': 636, 'blot': 635, 'blootu': 634, 'blootoo': 633, 'bloody': 632, 'blood': 631, 'block': 630, 'bloatw': 629, 'blo': 628, 'blitz': 627, 'blip': 626, 'blinkiy': 625, 'blink': 624, 'blindly': 623, 'blew': 622, 'bless': 621, 'blee': 620, 'bleady': 619, 'blast': 618, 'blank': 617, 'blam': 616, 'blady': 615, 'blad': 614, 'blackout': 613, 'black': 612, 'bl': 611, 'bkwas': 610, 'bit': 609, 'bird': 608, 'bip': 607, 'bio': 606, 'bin': 605, 'bill': 604, 'bilk': 603, 'bild': 602, 'bil': 601, 'bik': 600, 'bih': 599, 'biggest': 598, 'bigbil': 597, 'big': 596, 'bieng': 595, 'bied': 594, 'bid': 593, 'bich': 592, 'bi': 591, 'bht': 590, 'bhi': 589, 'bhayy': 588, 'bhar': 587, 'bhang': 586, 'bhaiy': 585, 'bha': 584, 'bh': 583, 'bgmi': 582, 'bezel': 581, 'bez': 580, 'beyond': 579, 'bey': 578, 'bewkoof': 577, 'bew': 576, 'between': 575, 'betweem': 574, 'betury': 573, 'betttry': 572, 'bettry': 571, 'bettrey': 570, 'bettey': 569, 'bettery': 568, 'betterry': 567, 'better': 566, 'bettay': 565, 'betry': 564, 'beterry': 563, 'betar': 562, 'bet': 561, 'best': 560, 'bess': 559, 'besaus': 558, 'bery': 557, 'berry': 556, 'bent': 555, 'benq': 554, 'benifit': 553, 'bengaluru': 552, 'benefit': 551, 'beneficial': 550, 'bend': 549, 'belt': 548, 'believe': 547, 'believ': 546, 'bel': 545, 'bekaup': 544, 'bek': 543, 'being': 542, 'beig': 541, 'behkuf': 540, 'behind': 539, 'behavy': 538, 'behavio': 537, 'behav': 536, 'behalf': 535, 'behad': 534, 'begn': 533, 'begin': 532, 'beggar': 531, 'begg': 530, 'beg': 529, 'beforehand': 528, 'before': 527, 'befool': 526, 'beep': 525, 'bee': 524, 'bed': 523, 'becz': 522, 'becuz': 521, 'becup': 520, 'becukp': 519, 'becoz': 518, 'becousr': 517, 'becom': 516, 'because': 515, 'becam': 514, 'beca': 513, 'bec': 512, 'beauty': 511, 'beatty': 510, 'beattry': 509, 'beat': 508, 'beastsome': 507, 'beast': 506, 'beard': 505, 'bear': 504, 'beakup': 503, 'beak': 502, 'bead': 501, 'beacus': 500, 'beacup': 499, 'be': 498, 'bday': 497, 'bd': 496, 'bcz': 495, 'bcuz': 494, 'bcs': 493, 'bcoz': 492, 'bco': 491, 'bcklight': 490, 'bck': 489, 'bc': 488, 'bbd': 487, 'baytery': 486, 'bay': 485, 'bava': 484, 'bauntad': 483, 'baught': 482, 'battry': 481, 'battrry': 480, 'battrey': 479, 'battey': 478, 'batterybackup': 477, 'battery': 476, 'batterry': 475, 'batteey': 474, 'batry': 473, 'batrery': 472, 'batr': 471, 'bath': 470, 'batery': 469, 'baterry': 468, 'baterr': 467, 'batar': 466, 'bat': 465, 'bastrd': 464, 'basterd': 463, 'bast': 462, 'basshead': 461, 'bassbud': 460, 'bass': 459, 'basic': 458, 'bas': 457, 'baruth': 456, 'barry': 455, 'bard': 454, 'barcod': 453, 'barbad': 452, 'barbaad': 451, 'barand': 450, 'baral': 449, 'bar': 448, 'bank': 447, 'bangl': 446, 'bangaloreindia': 445, 'band': 444, 'banarah': 443, 'ban': 442, 'baluthu': 441, 'balss': 440, 'ball': 439, 'balcony': 438, 'balckdo': 437, 'balck': 436, 'balancedextreme': 435, 'bal': 434, 'bakwass': 433, 'bakwash': 432, 'bakwas': 431, 'bakwa': 430, 'bakup': 429, 'bakep': 428, 'bakba': 427, 'bak': 426, 'bajas': 425, 'baj': 424, 'baitry': 423, 'baitr': 422, 'bait': 421, 'baid': 420, 'bahut': 419, 'bahubal': 418, 'bagno': 417, 'baget': 416, 'bag': 415, 'baet': 414, 'badwill': 413, 'badwen': 412, 'badu': 411, 'badthe': 410, 'badsuddenly': 409, 'badplease': 408, 'badoverheating': 407, 'badnot': 406, 'badno': 405, 'badminton': 404, 'badl': 403, 'badjust': 402, 'badit': 401, 'badhazy': 400, 'badest': 399, 'baddest': 398, 'baddessssst': 397, 'baddddddddddddd': 396, 'badddddddd': 395, 'baddddd': 394, 'badddd': 393, 'badcharger': 392, 'bad': 391, 'bacup': 390, 'backwhen': 389, 'backward': 388, 'backupwhen': 387, 'backupwaste': 386, 'backup': 385, 'backside': 384, 'backsid': 383, 'backpak': 382, 'backnow': 381, 'backlit': 380, 'backlight': 379, 'background': 378, 'backd': 377, 'back': 376, 'baby': 375, 'babu': 374, 'baad': 373, 'baaad': 372, 'baaaad': 371, 'baa': 370, 'ba': 369, 'azon': 368, 'ayon': 367, 'ayith': 366, 'awsom': 365, 'awosom': 364, 'awkwardperformance': 363, 'awkward': 362, 'awfuland': 361, 'awessom': 360, 'awesom': 359, 'awesm': 358, 'awaz': 357, 'away': 356, 'awast': 355, 'awasam': 354, 'await': 353, 'aw': 352, 'avreg': 351, 'avoid': 350, 'avl': 349, 'avil': 348, 'avik': 347, 'avg': 346, 'avery': 345, 'averez': 344, 'averagebrightness': 343, 'average': 342, 'avareg': 341, 'aval': 340, 'availablethey': 339, 'availableim': 338, 'availabledo': 337, 'available': 336, 'avail': 335, 'ava': 334, 'av': 333, 'aux': 332, 'autoswitch': 331, 'autostart': 330, 'automet': 329, 'automativc': 328, 'automaticallybattery': 327, 'automatically': 326, 'automatica': 325, 'automatic': 324, 'automail': 323, 'autom': 322, 'autofoc': 321, 'autocad': 320, 'autoboot': 319, 'auto': 318, 'autio': 317, 'auth': 316, 'aur': 315, 'auh': 314, 'august': 313, 'aug': 312, 'audio': 311, 'aud': 310, 'attribut': 309, 'attract': 308, 'attitud': 307, 'attend': 306, 'attempts': 305, 'attempt': 304, 'attach': 303, 'atom': 302, 'atmo': 301, 'atleast': 300, 'atlast': 299, 'atal': 298, 'at': 297, 'asu': 296, 'assum': 295, 'assocy': 294, 'assist': 293, 'assign': 292, 'assesery': 291, 'asses': 290, 'assembly': 289, 'assembl': 288, 'assalu': 287, 'ass': 286, 'asphalt': 285, 'aspect': 284, 'asp': 283, 'aslo': 282, 'ask': 281, 'asid': 280, 'asap': 279, 'as': 278, 'art': 277, 'arrog': 276, 'arrived': 275, 'arrival': 274, 'arrang': 273, 'around': 272, 'arom': 271, 'arm': 270, 'argu': 269, 'arenot': 268, 'areassell': 267, 'aready': 266, 'area': 265, 'are': 264, 'arc': 263, 'ar': 262, 'aqu': 261, 'aq': 260, 'apt': 259, 'apset': 258, 'aprox': 257, 'april': 256, 'appvery': 255, 'appswebsite': 254, 'appsit': 253, 'apps': 252, 'approxim': 251, 'approx': 250, 'approv': 249, 'appropry': 248, 'approach': 247, 'apprecy': 246, 'appox': 245, 'appoint': 244, 'appo': 243, 'apply': 242, 'applock': 241, 'applicationstoo': 240, 'applicationbcz': 239, 'application': 238, 'applicatio': 237, 'appl': 236, 'appect': 235, 'appearance': 234, 'appear': 233, 'apparat': 232, 'appalwqys': 231, 'appal': 230, 'app': 229, 'apn': 228, 'aplay': 227, 'apl': 226, 'aperfect': 225, 'apathy': 224, 'apart': 223, 'ap': 222, 'aoth': 221, 'aod': 220, 'anywh': 219, 'anyway': 218, 'anytim': 217, 'anythng': 216, 'anythingworthless': 215, 'anyth': 214, 'anyone': 213, 'anyon': 212, 'anymorea': 211, 'anym': 210, 'anycost': 209, 'anybom': 208, 'anybody': 207, 'antislippery': 206, 'anth': 205, 'antenn': 204, 'ant': 203, 'answ': 202, 'ansugraph': 201, 'anroid': 200, 'anoth': 199, 'anot': 198, 'annoying': 197, 'annoy': 196, 'annount': 195, 'animoj': 194, 'anim': 193, 'angry': 192, 'angl': 191, 'ang': 190, 'anew': 189, 'andvery': 188, 'android': 187, 'andriod': 186, 'and': 185, 'analys': 184, 'an': 183, 'amzfit': 182, 'amrits': 181, 'amply': 180, 'ampl': 179, 'amp': 178, 'amountm': 177, 'amountbut': 176, 'amount': 175, 'amongst': 174, 'among': 173, 'amon': 172, 'amol': 171, 'ammount': 170, 'amlod': 169, 'amh': 168, 'amd': 167, 'ambrane': 166, 'amazon': 165, 'amazing': 164, 'amazfitalso': 163, 'amazfit': 162, 'amazefit': 161, 'amaz': 160, 'amaxon': 159, 'am': 158, 'always': 157, 'alway': 156, 'alumin': 155, 'altogeth': 154, 'although': 153, 'altern': 152, 'altec': 151, 'alteast': 150, 'alsosuch': 149, 'also': 148, 'alright': 147, 'alredy': 146, 'already': 145, 'alpin': 144, 'alph': 143, 'alow': 142, 'alot': 141, 'along': 140, 'alon': 139, 'almost': 138, 'allwhen': 137, 'allredy': 136, 'alloy': 135, 'allow': 134, 'allot': 133, 'allo': 132, 'allnot': 131, 'allinone': 130, 'alli': 129, 'all': 128, 'aliexpress': 127, 'alex': 126, 'alert': 125, 'alcohol': 124, 'album': 123, 'alb': 122, 'alarm': 121, 'alao': 120, 'alaarm': 119, 'al': 118, 'akg': 117, 'akash': 116, 'akal': 115, 'aith': 114, 'aitem': 113, 'ais': 112, 'airtel': 111, 'airport': 110, 'airpod': 109, 'airplay': 108, 'airpl': 107, 'airphon': 106, 'airdrop': 105, 'airdop': 104, 'airbud': 103, 'airb': 102, 'air': 101, 'aim': 100, 'aidriven': 99, 'ai': 98, 'ahuj': 97, 'ahead': 96, 'ah': 95, 'aguthu': 94, 'agree': 93, 'agr': 92, 'agps': 91, 'agoo': 90, 'ago': 89, 'agin': 88, 'aggregationyou': 87, 'aggregation': 86, 'aggreg': 85, 'agend': 84, 'agencies': 83, 'agal': 82, 'againit': 81, 'again': 80, 'aga': 79, 'ag': 78, 'aftetrvs': 77, 'aftet': 76, 'afterward': 75, 'aftersales': 74, 'afternoon': 73, 'after': 72, 'aft': 71, 'afraid': 70, 'afr': 69, 'affraid': 68, 'afford': 67, 'affer': 66, 'affect': 65, 'af': 64, 'advertisements': 63, 'advert': 62, 'adv': 61, 'adult': 60, 'adp': 59, 'admit': 58, 'admiss': 57, 'admin': 56, 'adjust': 55, 'adjest': 54, 'adjac': 53, 'adiuo': 52, 'adit': 51, 'adfree': 50, 'addssssssss': 49, 'address': 48, 'additional': 47, 'addition': 46, 'addit': 45, 'addict': 44, 'adaptor': 43, 'adapt': 42, 'ad': 41, 'actuallymsr': 40, 'actuallyand': 39, 'actua': 38, 'act': 37, 'across': 36, 'ackup': 35, 'acknowledg': 34, 'achiev': 33, 'ach': 32, 'acer': 31, 'acecires': 30, 'account': 29, 'accord': 28, 'accid': 27, 'access': 26, 'acces': 25, 'acceptableis': 24, 'acceptable': 23, 'acceleromet': 22, 'acceiv': 21, 'acc': 20, 'ac': 19, 'abus': 18, 'abt': 17, 'absurd': 16, 'absout': 15, 'absolv': 14, 'abs': 13, 'abrupt': 12, 'about': 11, 'abnorm': 10, 'abl': 9, 'abel': 8, 'abad': 7, 'ab': 6, 'aay': 5, 'aash': 4, 'aapk': 3, 'aap': 2, 'aan': 1, 'aa': 0}\n"
     ]
    }
   ],
   "source": [
    "\n",
    "print(\"\\nSort (descending) the said dictionary elements by value:\")\n",
    "print(sort_dict_by_value(check, True))"
   ]
  },
  {
   "cell_type": "code",
   "execution_count": 387,
   "metadata": {},
   "outputs": [
    {
     "data": {
      "text/html": [
       "<div>\n",
       "<style scoped>\n",
       "    .dataframe tbody tr th:only-of-type {\n",
       "        vertical-align: middle;\n",
       "    }\n",
       "\n",
       "    .dataframe tbody tr th {\n",
       "        vertical-align: top;\n",
       "    }\n",
       "\n",
       "    .dataframe thead th {\n",
       "        text-align: right;\n",
       "    }\n",
       "</style>\n",
       "<table border=\"1\" class=\"dataframe\">\n",
       "  <thead>\n",
       "    <tr style=\"text-align: right;\">\n",
       "      <th></th>\n",
       "      <th>Rating</th>\n",
       "      <th>Review_head</th>\n",
       "      <th>Full_review</th>\n",
       "    </tr>\n",
       "  </thead>\n",
       "  <tbody>\n",
       "    <tr>\n",
       "      <th>17</th>\n",
       "      <td>1</td>\n",
       "      <td>did not meet expectations</td>\n",
       "      <td>poor bas</td>\n",
       "    </tr>\n",
       "    <tr>\n",
       "      <th>32</th>\n",
       "      <td>1</td>\n",
       "      <td>very poor</td>\n",
       "      <td>bluetoo bad</td>\n",
       "    </tr>\n",
       "    <tr>\n",
       "      <th>41</th>\n",
       "      <td>1</td>\n",
       "      <td>worthless</td>\n",
       "      <td>poor qual</td>\n",
       "    </tr>\n",
       "    <tr>\n",
       "      <th>45</th>\n",
       "      <td>1</td>\n",
       "      <td>useless product</td>\n",
       "      <td>purchas produc</td>\n",
       "    </tr>\n",
       "    <tr>\n",
       "      <th>48</th>\n",
       "      <td>1</td>\n",
       "      <td>worthless</td>\n",
       "      <td>nyc sound bass smal ok pric</td>\n",
       "    </tr>\n",
       "    <tr>\n",
       "      <th>...</th>\n",
       "      <td>...</td>\n",
       "      <td>...</td>\n",
       "      <td>...</td>\n",
       "    </tr>\n",
       "    <tr>\n",
       "      <th>7649</th>\n",
       "      <td>5</td>\n",
       "      <td>wonderful</td>\n",
       "      <td>model</td>\n",
       "    </tr>\n",
       "    <tr>\n",
       "      <th>7650</th>\n",
       "      <td>5</td>\n",
       "      <td>wonderful</td>\n",
       "      <td>sup produc ❤️</td>\n",
       "    </tr>\n",
       "    <tr>\n",
       "      <th>7655</th>\n",
       "      <td>5</td>\n",
       "      <td>terrific</td>\n",
       "      <td>😍this nic produc lov n s work prop n smoo mus...</td>\n",
       "    </tr>\n",
       "    <tr>\n",
       "      <th>7656</th>\n",
       "      <td>5</td>\n",
       "      <td>highly recommended</td>\n",
       "      <td>superb also look awesom charg ind nt show mac...</td>\n",
       "    </tr>\n",
       "    <tr>\n",
       "      <th>7657</th>\n",
       "      <td>5</td>\n",
       "      <td>mindblowing purchase</td>\n",
       "      <td>’ nic purchas  lik year warranty get  produc ...</td>\n",
       "    </tr>\n",
       "  </tbody>\n",
       "</table>\n",
       "<p>20000 rows × 3 columns</p>\n",
       "</div>"
      ],
      "text/plain": [
       "      Rating                Review_head  \\\n",
       "17         1  did not meet expectations   \n",
       "32         1                  very poor   \n",
       "41         1                  worthless   \n",
       "45         1            useless product   \n",
       "48         1                  worthless   \n",
       "...      ...                        ...   \n",
       "7649       5                  wonderful   \n",
       "7650       5                  wonderful   \n",
       "7655       5                   terrific   \n",
       "7656       5         highly recommended   \n",
       "7657       5       mindblowing purchase   \n",
       "\n",
       "                                            Full_review  \n",
       "17                                             poor bas  \n",
       "32                                          bluetoo bad  \n",
       "41                                            poor qual  \n",
       "45                                       purchas produc  \n",
       "48                          nyc sound bass smal ok pric  \n",
       "...                                                 ...  \n",
       "7649                                             model   \n",
       "7650                                      sup produc ❤️  \n",
       "7655   😍this nic produc lov n s work prop n smoo mus...  \n",
       "7656   superb also look awesom charg ind nt show mac...  \n",
       "7657   ’ nic purchas  lik year warranty get  produc ...  \n",
       "\n",
       "[20000 rows x 3 columns]"
      ]
     },
     "execution_count": 387,
     "metadata": {},
     "output_type": "execute_result"
    }
   ],
   "source": [
    "df_new=pd.concat([cat_1[:4000],cat_2[:4000],cat_3[:4000],cat_4[:4000],cat_5[:4000]])\n",
    "df_new"
   ]
  },
  {
   "cell_type": "code",
   "execution_count": 398,
   "metadata": {},
   "outputs": [],
   "source": [
    "#df_new.drop_duplicates(keep='first',inplace=False)"
   ]
  },
  {
   "cell_type": "markdown",
   "metadata": {},
   "source": [
    "The tfidf vectorizer was also tried but the count vectorizer yeilded better results."
   ]
  },
  {
   "cell_type": "code",
   "execution_count": 400,
   "metadata": {},
   "outputs": [],
   "source": [
    "\n",
    "#tfv = TfidfVectorizer(ngram_range=(1,1), stop_words='english')\n",
    "#col_list=['Full_review','Review_head']\n",
    "#for i in col_list:\n",
    " #   x= tfv.fit_transform(df_new[i])\n",
    "#y=df_new['Rating']"
   ]
  },
  {
   "cell_type": "markdown",
   "metadata": {},
   "source": [
    "CountVectorizer"
   ]
  },
  {
   "cell_type": "code",
   "execution_count": 409,
   "metadata": {},
   "outputs": [],
   "source": [
    "c_vect=CountVectorizer(ngram_range=(1,1))\n",
    "col_list=['Full_review','Review_head']\n",
    "for i in col_list:\n",
    "    x=c_vect.fit_transform(df_new[i])\n",
    "y=df_new['Rating']"
   ]
  },
  {
   "cell_type": "code",
   "execution_count": 410,
   "metadata": {},
   "outputs": [
    {
     "data": {
      "text/plain": [
       "5    4000\n",
       "4    4000\n",
       "3    4000\n",
       "2    4000\n",
       "1    4000\n",
       "Name: Rating, dtype: int64"
      ]
     },
     "execution_count": 410,
     "metadata": {},
     "output_type": "execute_result"
    }
   ],
   "source": [
    "y.value_counts()"
   ]
  },
  {
   "cell_type": "code",
   "execution_count": 411,
   "metadata": {},
   "outputs": [],
   "source": [
    "from sklearn.model_selection import train_test_split\n",
    "from sklearn.metrics import accuracy_score,classification_report\n",
    "from sklearn.linear_model import LogisticRegression"
   ]
  },
  {
   "cell_type": "markdown",
   "metadata": {},
   "source": [
    "LOGISTIC REGRESSION"
   ]
  },
  {
   "cell_type": "code",
   "execution_count": 413,
   "metadata": {},
   "outputs": [
    {
     "name": "stdout",
     "output_type": "stream",
     "text": [
      "0.9512\n",
      "              precision    recall  f1-score   support\n",
      "\n",
      "           1       0.95      0.98      0.97       991\n",
      "           2       0.97      0.97      0.97      1004\n",
      "           3       0.96      0.94      0.95      1010\n",
      "           4       0.93      0.92      0.93      1030\n",
      "           5       0.94      0.95      0.94       965\n",
      "\n",
      "    accuracy                           0.95      5000\n",
      "   macro avg       0.95      0.95      0.95      5000\n",
      "weighted avg       0.95      0.95      0.95      5000\n",
      "\n"
     ]
    }
   ],
   "source": [
    "x_train, x_test, y_train, y_test = train_test_split(x, y, test_size=.25, random_state=42)\n",
    "lr1=LogisticRegression()\n",
    "#tfv = TfidfVectorizer(ngram_range=(1,1), stop_words='english')\n",
    "#x_train_tfv1=tfv.fit_transform(x_train)\n",
    "#x_test_tfv1=tfv.transform(x_test)\n",
    "lr1.fit(x_train,y_train)\n",
    "pred_log=lr1.predict(x_test)\n",
    "print(accuracy_score(y_test,pred_log))\n",
    "print(classification_report(y_test,pred_log))"
   ]
  },
  {
   "cell_type": "markdown",
   "metadata": {},
   "source": [
    "SUPPORT VECTOR MACHINE(LinearSVC)"
   ]
  },
  {
   "cell_type": "code",
   "execution_count": 414,
   "metadata": {},
   "outputs": [
    {
     "name": "stdout",
     "output_type": "stream",
     "text": [
      "0.9516\n",
      "              precision    recall  f1-score   support\n",
      "\n",
      "           1       0.95      0.98      0.97       991\n",
      "           2       0.97      0.98      0.97      1004\n",
      "           3       0.96      0.94      0.95      1010\n",
      "           4       0.93      0.92      0.92      1030\n",
      "           5       0.94      0.95      0.94       965\n",
      "\n",
      "    accuracy                           0.95      5000\n",
      "   macro avg       0.95      0.95      0.95      5000\n",
      "weighted avg       0.95      0.95      0.95      5000\n",
      "\n"
     ]
    }
   ],
   "source": [
    "from sklearn.svm import LinearSVC\n",
    "svm=LinearSVC(class_weight='balanced')\n",
    "svm.fit(x_train,y_train)\n",
    "pred_svm=svm.predict(x_test)\n",
    "print(accuracy_score(y_test,pred_svm))\n",
    "print(classification_report(y_test,pred_svm))"
   ]
  },
  {
   "cell_type": "markdown",
   "metadata": {},
   "source": [
    "KNEIGHBORS CLASSIFIER"
   ]
  },
  {
   "cell_type": "code",
   "execution_count": 415,
   "metadata": {},
   "outputs": [
    {
     "name": "stdout",
     "output_type": "stream",
     "text": [
      "0.9476\n",
      "              precision    recall  f1-score   support\n",
      "\n",
      "           1       0.93      0.98      0.95       991\n",
      "           2       0.97      0.98      0.97      1004\n",
      "           3       0.97      0.93      0.95      1010\n",
      "           4       0.93      0.91      0.92      1030\n",
      "           5       0.94      0.95      0.94       965\n",
      "\n",
      "    accuracy                           0.95      5000\n",
      "   macro avg       0.95      0.95      0.95      5000\n",
      "weighted avg       0.95      0.95      0.95      5000\n",
      "\n"
     ]
    }
   ],
   "source": [
    "from sklearn.neighbors import KNeighborsClassifier\n",
    "knc=KNeighborsClassifier(n_neighbors=3)\n",
    "knc.fit(x_train,y_train)\n",
    "pred_knc=knc.predict(x_test)\n",
    "print(accuracy_score(y_test,pred_knc))\n",
    "print(classification_report(y_test,pred_knc))"
   ]
  },
  {
   "cell_type": "markdown",
   "metadata": {},
   "source": [
    "DECISION TREE CLASSIFIER"
   ]
  },
  {
   "cell_type": "code",
   "execution_count": 417,
   "metadata": {},
   "outputs": [
    {
     "name": "stdout",
     "output_type": "stream",
     "text": [
      "0.9516\n",
      "              precision    recall  f1-score   support\n",
      "\n",
      "           1       0.95      0.99      0.97       991\n",
      "           2       0.98      0.98      0.98      1004\n",
      "           3       0.96      0.94      0.95      1010\n",
      "           4       0.93      0.92      0.92      1030\n",
      "           5       0.94      0.94      0.94       965\n",
      "\n",
      "    accuracy                           0.95      5000\n",
      "   macro avg       0.95      0.95      0.95      5000\n",
      "weighted avg       0.95      0.95      0.95      5000\n",
      "\n"
     ]
    }
   ],
   "source": [
    "from sklearn.tree import DecisionTreeClassifier\n",
    "dtc=DecisionTreeClassifier(criterion='gini')\n",
    "dtc.fit(x_train,y_train)\n",
    "pred_dtc=dtc.predict(x_test)\n",
    "print(accuracy_score(y_test,pred_dtc))\n",
    "print(classification_report(y_test,pred_dtc))"
   ]
  },
  {
   "cell_type": "markdown",
   "metadata": {},
   "source": [
    "RANDOM FOREST CLASSIFIER"
   ]
  },
  {
   "cell_type": "code",
   "execution_count": 427,
   "metadata": {},
   "outputs": [
    {
     "name": "stdout",
     "output_type": "stream",
     "text": [
      "0.9516\n",
      "              precision    recall  f1-score   support\n",
      "\n",
      "           1       0.95      0.98      0.97       991\n",
      "           2       0.98      0.98      0.98      1004\n",
      "           3       0.96      0.94      0.95      1010\n",
      "           4       0.94      0.92      0.93      1030\n",
      "           5       0.94      0.94      0.94       965\n",
      "\n",
      "    accuracy                           0.95      5000\n",
      "   macro avg       0.95      0.95      0.95      5000\n",
      "weighted avg       0.95      0.95      0.95      5000\n",
      "\n"
     ]
    }
   ],
   "source": [
    "from sklearn.ensemble import RandomForestClassifier\n",
    "rfc=RandomForestClassifier()\n",
    "rfc.fit(x_train,y_train)\n",
    "pred_rfc=rfc.predict(x_test)\n",
    "print(accuracy_score(y_test,pred_rfc))\n",
    "print(classification_report(y_test,pred_rfc))"
   ]
  },
  {
   "cell_type": "markdown",
   "metadata": {},
   "source": [
    "CROSS-VALIDATION"
   ]
  },
  {
   "cell_type": "code",
   "execution_count": 421,
   "metadata": {},
   "outputs": [],
   "source": [
    "from sklearn.model_selection import cross_val_score"
   ]
  },
  {
   "cell_type": "code",
   "execution_count": 422,
   "metadata": {},
   "outputs": [
    {
     "name": "stdout",
     "output_type": "stream",
     "text": [
      "mean score: 0.9481999999999999\n",
      "cross val score: [0.9625 0.966  0.957  0.967  0.915  0.929  0.944  0.9715 0.927  0.943 ]\n"
     ]
    }
   ],
   "source": [
    "#Logistic Regression\n",
    "cv=cross_val_score(lr1,x,y,cv=10)\n",
    "print(\"mean score:\",cv.mean())\n",
    "print(\"cross val score:\",cv)"
   ]
  },
  {
   "cell_type": "code",
   "execution_count": 423,
   "metadata": {},
   "outputs": [
    {
     "name": "stdout",
     "output_type": "stream",
     "text": [
      "mean score: 0.45555\n",
      "cross val score: [0.452  0.4275 0.4525 0.4615 0.427  0.486  0.4855 0.436  0.424  0.5035]\n"
     ]
    }
   ],
   "source": [
    "#KNeighbors Classifier\n",
    "cv=cross_val_score(knc,x,y,cv=10)\n",
    "print(\"mean score:\",cv.mean())\n",
    "print(\"cross val score:\",cv)"
   ]
  },
  {
   "cell_type": "code",
   "execution_count": 424,
   "metadata": {},
   "outputs": [
    {
     "name": "stdout",
     "output_type": "stream",
     "text": [
      "mean score: 0.9490000000000001\n",
      "cross val score: [0.963  0.9665 0.956  0.968  0.9195 0.9295 0.946  0.971  0.926  0.9445]\n"
     ]
    }
   ],
   "source": [
    "#Linear SVC\n",
    "cv=cross_val_score(svm,x,y,cv=10)\n",
    "print(\"mean score:\",cv.mean())\n",
    "print(\"cross val score:\",cv)"
   ]
  },
  {
   "cell_type": "code",
   "execution_count": 425,
   "metadata": {},
   "outputs": [
    {
     "name": "stdout",
     "output_type": "stream",
     "text": [
      "mean score: 0.94865\n",
      "cross val score: [0.9645 0.966  0.9555 0.9655 0.9185 0.925  0.9475 0.974  0.9255 0.9445]\n"
     ]
    }
   ],
   "source": [
    "#Decision Tree Classifier\n",
    "cv=cross_val_score(dtc,x,y,cv=10)\n",
    "print(\"mean score:\",cv.mean())\n",
    "print(\"cross val score:\",cv)"
   ]
  },
  {
   "cell_type": "code",
   "execution_count": 428,
   "metadata": {},
   "outputs": [
    {
     "name": "stdout",
     "output_type": "stream",
     "text": [
      "mean score: 0.94985\n",
      "cross val score: [0.964  0.969  0.9565 0.965  0.92   0.9275 0.9475 0.975  0.929  0.945 ]\n"
     ]
    }
   ],
   "source": [
    "#Random Forest Classifier\n",
    "cv=cross_val_score(rfc,x,y,cv=10)\n",
    "print(\"mean score:\",cv.mean())\n",
    "print(\"cross val score:\",cv)"
   ]
  },
  {
   "cell_type": "markdown",
   "metadata": {},
   "source": [
    "All the algorithms performed well except the KNeighbors Classifier"
   ]
  },
  {
   "cell_type": "markdown",
   "metadata": {},
   "source": [
    "Proceeding to Roc-Auc scoring"
   ]
  },
  {
   "cell_type": "code",
   "execution_count": 455,
   "metadata": {},
   "outputs": [],
   "source": [
    "from sklearn.metrics import roc_curve,roc_auc_score"
   ]
  },
  {
   "cell_type": "code",
   "execution_count": 462,
   "metadata": {},
   "outputs": [
    {
     "name": "stdout",
     "output_type": "stream",
     "text": [
      "Random Forest test roc-auc: 0.9854065308963614\n"
     ]
    }
   ],
   "source": [
    "#RandomForest\n",
    "rr=rfc.predict_proba(x_test)\n",
    "print('Random Forest test roc-auc: {}'.format(roc_auc_score(y_test,rr,multi_class='ovo')))"
   ]
  },
  {
   "cell_type": "code",
   "execution_count": 463,
   "metadata": {},
   "outputs": [
    {
     "name": "stdout",
     "output_type": "stream",
     "text": [
      "Logistic Regression test roc-auc: 0.9829373888930025\n"
     ]
    }
   ],
   "source": [
    "#Logistic Regression\n",
    "lr=lr1.predict_proba(x_test)\n",
    "print('Logistic Regression test roc-auc: {}'.format(roc_auc_score(y_test,lr,multi_class='ovo')))"
   ]
  },
  {
   "cell_type": "code",
   "execution_count": 465,
   "metadata": {},
   "outputs": [
    {
     "name": "stdout",
     "output_type": "stream",
     "text": [
      "Decision Tree Classifier test roc-auc: 0.9714124975375761\n"
     ]
    }
   ],
   "source": [
    "#Decision Tree Classifier\n",
    "dt=dtc.predict_proba(x_test)\n",
    "print('Decision Tree Classifier test roc-auc: {}'.format(roc_auc_score(y_test,dt,multi_class='ovo')))"
   ]
  },
  {
   "cell_type": "code",
   "execution_count": 466,
   "metadata": {},
   "outputs": [
    {
     "name": "stdout",
     "output_type": "stream",
     "text": [
      "KNeighbors Classifier test roc-auc: 0.9778167952660128\n"
     ]
    }
   ],
   "source": [
    "knn=knc.predict_proba(x_test)\n",
    "print('KNeighbors Classifier test roc-auc: {}'.format(roc_auc_score(y_test,knn,multi_class='ovo')))"
   ]
  },
  {
   "cell_type": "markdown",
   "metadata": {},
   "source": [
    "The Random Forest Classifier has been selected as the best model as it has the lowest difference between the accuracy_score and the cross_val_score,a very good f-1 score and the highest roc_auc_score.\n",
    "The f-1 score being the most important metric in reaching this conclusion.\n",
    "Hyperparameter Tuning the Random Forest Classifier.\n",
    "The LinearSVC algorithm cannot be used here as it does not have the predict_proba method."
   ]
  },
  {
   "cell_type": "code",
   "execution_count": 475,
   "metadata": {},
   "outputs": [
    {
     "name": "stdout",
     "output_type": "stream",
     "text": [
      "GridSearchCV(cv=5, estimator=RandomForestClassifier(),\n",
      "             param_grid={'criterion': ['gini', 'entropy'],\n",
      "                         'max_depth': [None, 2, 3, 5],\n",
      "                         'n_estimators': [100, 200, 300, 500]})\n"
     ]
    },
    {
     "data": {
      "text/plain": [
       "GridSearchCV(cv=5, estimator=RandomForestClassifier(),\n",
       "             param_grid={'criterion': ['gini', 'entropy'],\n",
       "                         'max_depth': [None, 2, 3, 5],\n",
       "                         'n_estimators': [100, 200, 300, 500]})"
      ]
     },
     "execution_count": 475,
     "metadata": {},
     "output_type": "execute_result"
    }
   ],
   "source": [
    "from sklearn.model_selection import GridSearchCV\n",
    "model=RandomForestClassifier()\n",
    "parameters={'criterion':['gini','entropy'],'n_estimators':[100,200,300,500],'max_depth':[None,2,3,5]}\n",
    "grid=GridSearchCV(estimator=model,param_grid=parameters,cv=5)\n",
    "print(grid)\n",
    "grid.fit(x_train,y_train)"
   ]
  },
  {
   "cell_type": "code",
   "execution_count": 480,
   "metadata": {},
   "outputs": [
    {
     "name": "stdout",
     "output_type": "stream",
     "text": [
      "0.9485333333333333\n",
      "500\n",
      "{'criterion': 'entropy', 'max_depth': None, 'n_estimators': 500}\n"
     ]
    }
   ],
   "source": [
    "print(grid.best_score_)\n",
    "print(grid.best_estimator_.n_estimators)\n",
    "print(grid.best_params_)\n"
   ]
  },
  {
   "cell_type": "code",
   "execution_count": 481,
   "metadata": {},
   "outputs": [
    {
     "name": "stdout",
     "output_type": "stream",
     "text": [
      "0.9514\n",
      "              precision    recall  f1-score   support\n",
      "\n",
      "           1       0.95      0.99      0.97       991\n",
      "           2       0.98      0.98      0.98      1004\n",
      "           3       0.95      0.94      0.95      1010\n",
      "           4       0.94      0.92      0.93      1030\n",
      "           5       0.94      0.94      0.94       965\n",
      "\n",
      "    accuracy                           0.95      5000\n",
      "   macro avg       0.95      0.95      0.95      5000\n",
      "weighted avg       0.95      0.95      0.95      5000\n",
      "\n"
     ]
    }
   ],
   "source": [
    "#Tuning the parameters with the best estimators\n",
    "rfc_final=RandomForestClassifier(criterion='entropy',max_depth=None,n_estimators=500)\n",
    "rfc_final.fit(x_train,y_train)\n",
    "pred_rfc_final=rfc_final.predict(x_test)\n",
    "print(accuracy_score(y_test,pred_rfc_final))\n",
    "print(classification_report(y_test,pred_rfc_final))"
   ]
  },
  {
   "cell_type": "markdown",
   "metadata": {},
   "source": [
    "Saving the tuned Random Forest model along with the Count Vectorizer"
   ]
  },
  {
   "cell_type": "code",
   "execution_count": 485,
   "metadata": {},
   "outputs": [],
   "source": [
    "import pickle\n",
    "filename2='Rating_prediction(vectorizer).sav'\n",
    "filename1='Rating_prediction(model).sav'\n",
    "#The model\n",
    "pickle.dump(rfc_final,open(filename1,'wb'))\n",
    "#The count_vectorizer\n",
    "pickle.dump(c_vect,open(filename2,'wb'))"
   ]
  },
  {
   "cell_type": "markdown",
   "metadata": {},
   "source": [
    "Loading the model for testing"
   ]
  },
  {
   "cell_type": "code",
   "execution_count": 486,
   "metadata": {},
   "outputs": [],
   "source": [
    "load_vect=pickle.load(open(filename2,'rb'))\n",
    "load_model=pickle.load(open(filename1,'rb'))"
   ]
  },
  {
   "cell_type": "code",
   "execution_count": 506,
   "metadata": {},
   "outputs": [],
   "source": [
    "x=df\n",
    "col_list=['Full_review','Review_head']\n",
    "for i in col_list:\n",
    "    X=load_vect.transform(x[i])\n",
    "y=df['Rating']"
   ]
  },
  {
   "cell_type": "markdown",
   "metadata": {},
   "source": [
    "Now testing the model on the original(imbalanced) dataset."
   ]
  },
  {
   "cell_type": "code",
   "execution_count": 507,
   "metadata": {},
   "outputs": [
    {
     "data": {
      "text/html": [
       "<div>\n",
       "<style scoped>\n",
       "    .dataframe tbody tr th:only-of-type {\n",
       "        vertical-align: middle;\n",
       "    }\n",
       "\n",
       "    .dataframe tbody tr th {\n",
       "        vertical-align: top;\n",
       "    }\n",
       "\n",
       "    .dataframe thead th {\n",
       "        text-align: right;\n",
       "    }\n",
       "</style>\n",
       "<table border=\"1\" class=\"dataframe\">\n",
       "  <thead>\n",
       "    <tr style=\"text-align: right;\">\n",
       "      <th></th>\n",
       "      <th>Rating</th>\n",
       "      <th>Review_head</th>\n",
       "      <th>Full_review</th>\n",
       "      <th>Predicted</th>\n",
       "    </tr>\n",
       "  </thead>\n",
       "  <tbody>\n",
       "    <tr>\n",
       "      <th>0</th>\n",
       "      <td>5</td>\n",
       "      <td>Super!</td>\n",
       "      <td>sup bbb prodact amaz bass effect speak sound ...</td>\n",
       "      <td>5</td>\n",
       "    </tr>\n",
       "    <tr>\n",
       "      <th>1</th>\n",
       "      <td>5</td>\n",
       "      <td>Great product</td>\n",
       "      <td>sup sound lacky</td>\n",
       "      <td>5</td>\n",
       "    </tr>\n",
       "    <tr>\n",
       "      <th>2</th>\n",
       "      <td>5</td>\n",
       "      <td>Must buy!</td>\n",
       "      <td>nic sound system . superb bass audio . awesom...</td>\n",
       "      <td>5</td>\n",
       "    </tr>\n",
       "    <tr>\n",
       "      <th>3</th>\n",
       "      <td>4</td>\n",
       "      <td>Worth the money</td>\n",
       "      <td>nic</td>\n",
       "      <td>4</td>\n",
       "    </tr>\n",
       "    <tr>\n",
       "      <th>4</th>\n",
       "      <td>4</td>\n",
       "      <td>Nice product</td>\n",
       "      <td>nic produc , good sound</td>\n",
       "      <td>4</td>\n",
       "    </tr>\n",
       "    <tr>\n",
       "      <th>...</th>\n",
       "      <td>...</td>\n",
       "      <td>...</td>\n",
       "      <td>...</td>\n",
       "      <td>...</td>\n",
       "    </tr>\n",
       "    <tr>\n",
       "      <th>86304</th>\n",
       "      <td>4</td>\n",
       "      <td>Really Nice</td>\n",
       "      <td>smal .. good begin</td>\n",
       "      <td>4</td>\n",
       "    </tr>\n",
       "    <tr>\n",
       "      <th>86305</th>\n",
       "      <td>5</td>\n",
       "      <td>Highly recommended</td>\n",
       "      <td>sup proficit photo graph</td>\n",
       "      <td>5</td>\n",
       "    </tr>\n",
       "    <tr>\n",
       "      <th>86306</th>\n",
       "      <td>3</td>\n",
       "      <td>Just okay</td>\n",
       "      <td>describ ment alumin body 's . 's ab mat , kin...</td>\n",
       "      <td>3</td>\n",
       "    </tr>\n",
       "    <tr>\n",
       "      <th>86307</th>\n",
       "      <td>5</td>\n",
       "      <td>Terrific purchase</td>\n",
       "      <td>best stepil low angl shot ... steady cam us c...</td>\n",
       "      <td>5</td>\n",
       "    </tr>\n",
       "    <tr>\n",
       "      <th>86308</th>\n",
       "      <td>5</td>\n",
       "      <td>Great product</td>\n",
       "      <td>good produc ... , fast ship ... , hop deal .</td>\n",
       "      <td>5</td>\n",
       "    </tr>\n",
       "  </tbody>\n",
       "</table>\n",
       "<p>86309 rows × 4 columns</p>\n",
       "</div>"
      ],
      "text/plain": [
       "       Rating         Review_head  \\\n",
       "0           5              Super!   \n",
       "1           5       Great product   \n",
       "2           5           Must buy!   \n",
       "3           4     Worth the money   \n",
       "4           4        Nice product   \n",
       "...       ...                 ...   \n",
       "86304       4         Really Nice   \n",
       "86305       5  Highly recommended   \n",
       "86306       3           Just okay   \n",
       "86307       5   Terrific purchase   \n",
       "86308       5       Great product   \n",
       "\n",
       "                                             Full_review  Predicted  \n",
       "0       sup bbb prodact amaz bass effect speak sound ...          5  \n",
       "1                                        sup sound lacky          5  \n",
       "2       nic sound system . superb bass audio . awesom...          5  \n",
       "3                                                    nic          4  \n",
       "4                                nic produc , good sound          4  \n",
       "...                                                  ...        ...  \n",
       "86304                                 smal .. good begin          4  \n",
       "86305                           sup proficit photo graph          5  \n",
       "86306   describ ment alumin body 's . 's ab mat , kin...          3  \n",
       "86307   best stepil low angl shot ... steady cam us c...          5  \n",
       "86308       good produc ... , fast ship ... , hop deal .          5  \n",
       "\n",
       "[86309 rows x 4 columns]"
      ]
     },
     "execution_count": 507,
     "metadata": {},
     "output_type": "execute_result"
    }
   ],
   "source": [
    "x['Predicted']=load_model.predict(X)\n",
    "x"
   ]
  },
  {
   "cell_type": "code",
   "execution_count": 509,
   "metadata": {},
   "outputs": [
    {
     "name": "stdout",
     "output_type": "stream",
     "text": [
      "0.9343637395868334\n",
      "              precision    recall  f1-score   support\n",
      "\n",
      "           1       0.95      0.98      0.96     15032\n",
      "           2       0.93      0.99      0.96      4015\n",
      "           3       0.85      0.96      0.91      7105\n",
      "           4       0.82      0.95      0.88     14799\n",
      "           5       0.99      0.91      0.95     45358\n",
      "\n",
      "    accuracy                           0.93     86309\n",
      "   macro avg       0.91      0.96      0.93     86309\n",
      "weighted avg       0.94      0.93      0.94     86309\n",
      "\n"
     ]
    }
   ],
   "source": [
    "#Accuracy score and classification report\n",
    "print(accuracy_score(x['Rating'],x['Predicted']))\n",
    "print(classification_report(x['Rating'],x['Predicted']))"
   ]
  },
  {
   "cell_type": "markdown",
   "metadata": {},
   "source": [
    "Finally,\n",
    "\n",
    "saving the extracted(scraped) dataset(df) in csv format."
   ]
  },
  {
   "cell_type": "code",
   "execution_count": 510,
   "metadata": {},
   "outputs": [],
   "source": [
    "df.to_csv('ratings_prediction(final_dataset).csv')"
   ]
  },
  {
   "cell_type": "code",
   "execution_count": null,
   "metadata": {},
   "outputs": [],
   "source": []
  }
 ],
 "metadata": {
  "kernelspec": {
   "display_name": "Python 3",
   "language": "python",
   "name": "python3"
  },
  "language_info": {
   "codemirror_mode": {
    "name": "ipython",
    "version": 3
   },
   "file_extension": ".py",
   "mimetype": "text/x-python",
   "name": "python",
   "nbconvert_exporter": "python",
   "pygments_lexer": "ipython3",
   "version": "3.8.8"
  }
 },
 "nbformat": 4,
 "nbformat_minor": 4
}
